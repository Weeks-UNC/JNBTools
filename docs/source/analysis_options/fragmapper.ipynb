{
 "cells": [
  {
   "cell_type": "markdown",
   "metadata": {},
   "source": [
    "FragMapper\n",
    "==========\n",
    "\n",
    "Maintained by Seth Veenbaas"
   ]
  },
  {
   "cell_type": "code",
   "execution_count": 3,
   "metadata": {},
   "outputs": [],
   "source": [
    "import rnavigate as rnav\n"
   ]
  },
  {
   "cell_type": "markdown",
   "metadata": {},
   "source": [
    "## Import data to RNAvigate and run Fragmapper analysis\n"
   ]
  },
  {
   "cell_type": "code",
   "execution_count": 4,
   "metadata": {},
   "outputs": [],
   "source": [
    "from rnavigate.examples import quinaxoline, linezolid, methyl\n"
   ]
  },
  {
   "cell_type": "markdown",
   "metadata": {},
   "source": [
    "The above import statement is equivalent to running the following code from\n",
    "inside `/path/to/RNAvigate/rnavigate/examples/rrna_fragmap/`.\n",
    "\n",
    "```python\n",
    "# Reference structure data is shared between samples\n",
    "common_data = rnav.Sample(\n",
    "    sample='6HA1 - LSU',\n",
    "    sequence='6HA1_LSU.fasta',\n",
    "    pdb={'pdb': '6HA1_LSU.pdb',\n",
    "         'sequence': 'sequence',\n",
    "         'chain': 'A'},\n",
    "    ss='6HA1_LSU.json'\n",
    ")\n",
    "# Flip structure diagram along x and y axes\n",
    "common_data.data['ss'].data[\"X_coordinate\"] *= -1\n",
    "common_data.data['ss'].data[\"Y_coordinate\"] *= -1\n",
    "# Quinaxoline test sample\n",
    "quinoxiline = rnav.Sample(\n",
    "    'B. sub rRNA FragMaP: quinoxiline',\n",
    "    inherit=common_data,\n",
    "    shapemap='2_QN_DMSO_subtracted_LSU_profile.txt'\n",
    ")\n",
    "# Linezolid test sample\n",
    "lnz = rnav.Sample(\n",
    "    'B. sub rRNA FragMaP: linezolid',\n",
    "    inherit=common_data,\n",
    "    shapemap='2_ZLD_DMSO_subtracted_LSU_profile.txt'\n",
    ")\n",
    "# Methyl control sample\n",
    "met = rnav.Sample(\n",
    "    'B. sub rRNA FragMaP: methyl',\n",
    "    inherit=common_data,\n",
    "    shapemap='2_Methyl_DMSO_subtracted_LSU_profile.txt'\n",
    ")\n",
    "```\n"
   ]
  },
  {
   "cell_type": "code",
   "execution_count": 5,
   "metadata": {},
   "outputs": [
    {
     "name": "stderr",
     "output_type": "stream",
     "text": [
      "/usr/local/lib/python3.11/site-packages/pandas/core/arraylike.py:399: RuntimeWarning: invalid value encountered in log\n",
      "  result = getattr(ufunc, method)(*inputs, **kwargs)\n",
      "/usr/local/lib/python3.11/site-packages/pandas/core/arraylike.py:399: RuntimeWarning: invalid value encountered in log\n",
      "  result = getattr(ufunc, method)(*inputs, **kwargs)\n"
     ]
    },
    {
     "ename": "KeyError",
     "evalue": "'key of type tuple not found and not a MultiIndex'",
     "output_type": "error",
     "traceback": [
      "\u001b[0;31m---------------------------------------------------------------------------\u001b[0m",
      "\u001b[0;31mKeyError\u001b[0m                                  Traceback (most recent call last)",
      "Cell \u001b[0;32mIn[5], line 3\u001b[0m\n\u001b[1;32m      1\u001b[0m \u001b[38;5;66;03m# Run Fragmapper analysis and saving a FragMaP profile object\u001b[39;00m\n\u001b[1;32m      2\u001b[0m \u001b[38;5;66;03m# NOTE: Fragmapper requires 1 test sample and 1 control sample\u001b[39;00m\n\u001b[0;32m----> 3\u001b[0m qn_fm \u001b[38;5;241m=\u001b[39m \u001b[43mrnav\u001b[49m\u001b[38;5;241;43m.\u001b[39;49m\u001b[43manalysis\u001b[49m\u001b[38;5;241;43m.\u001b[39;49m\u001b[43mFragmapper\u001b[49m\u001b[43m(\u001b[49m\u001b[43mquinaxoline\u001b[49m\u001b[43m,\u001b[49m\u001b[43m \u001b[49m\u001b[43mmethyl\u001b[49m\u001b[43m)\u001b[49m\n\u001b[1;32m      4\u001b[0m lnz_fm \u001b[38;5;241m=\u001b[39m rnav\u001b[38;5;241m.\u001b[39manalysis\u001b[38;5;241m.\u001b[39mFragmapper(linezolid, methyl)\n",
      "File \u001b[0;32m/workspaces/RNAvigate/rnavigate/analysis/fragmapper.py:233\u001b[0m, in \u001b[0;36mFragmapper.__init__\u001b[0;34m(self, sample1, sample2, parameters, profile)\u001b[0m\n\u001b[1;32m    225\u001b[0m \u001b[38;5;28mself\u001b[39m\u001b[38;5;241m.\u001b[39mparameters \u001b[38;5;241m=\u001b[39m {\n\u001b[1;32m    226\u001b[0m     \u001b[38;5;124m\"\u001b[39m\u001b[38;5;124mmutation_rate_threshold\u001b[39m\u001b[38;5;124m\"\u001b[39m: \u001b[38;5;241m0.025\u001b[39m,\n\u001b[1;32m    227\u001b[0m     \u001b[38;5;124m\"\u001b[39m\u001b[38;5;124mdepth_threshold\u001b[39m\u001b[38;5;124m\"\u001b[39m: \u001b[38;5;241m5000\u001b[39m,\n\u001b[0;32m   (...)\u001b[0m\n\u001b[1;32m    230\u001b[0m     \u001b[38;5;124m\"\u001b[39m\u001b[38;5;124mcorrection_method\u001b[39m\u001b[38;5;124m\"\u001b[39m: \u001b[38;5;28;01mNone\u001b[39;00m,\n\u001b[1;32m    231\u001b[0m }\n\u001b[1;32m    232\u001b[0m \u001b[38;5;28mself\u001b[39m\u001b[38;5;241m.\u001b[39mparameters \u001b[38;5;241m|\u001b[39m\u001b[38;5;241m=\u001b[39m parameters\n\u001b[0;32m--> 233\u001b[0m fragmap \u001b[38;5;241m=\u001b[39m \u001b[43mFragMaP\u001b[49m\u001b[43m(\u001b[49m\n\u001b[1;32m    234\u001b[0m \u001b[43m    \u001b[49m\u001b[43minput_data\u001b[49m\u001b[38;5;241;43m=\u001b[39;49m\u001b[43m[\u001b[49m\u001b[43msample1\u001b[49m\u001b[38;5;241;43m.\u001b[39;49m\u001b[43mget_data\u001b[49m\u001b[43m(\u001b[49m\u001b[43mprofile\u001b[49m\u001b[43m)\u001b[49m\u001b[43m,\u001b[49m\u001b[43m \u001b[49m\u001b[43msample2\u001b[49m\u001b[38;5;241;43m.\u001b[39;49m\u001b[43mget_data\u001b[49m\u001b[43m(\u001b[49m\u001b[43mprofile\u001b[49m\u001b[43m)\u001b[49m\u001b[43m]\u001b[49m\u001b[43m,\u001b[49m\n\u001b[1;32m    235\u001b[0m \u001b[43m    \u001b[49m\u001b[43mparameters\u001b[49m\u001b[38;5;241;43m=\u001b[39;49m\u001b[38;5;28;43mself\u001b[39;49m\u001b[38;5;241;43m.\u001b[39;49m\u001b[43mparameters\u001b[49m\u001b[43m,\u001b[49m\n\u001b[1;32m    236\u001b[0m \u001b[43m\u001b[49m\u001b[43m)\u001b[49m\n\u001b[1;32m    237\u001b[0m \u001b[38;5;28msuper\u001b[39m()\u001b[38;5;241m.\u001b[39m\u001b[38;5;21m__init__\u001b[39m(\n\u001b[1;32m    238\u001b[0m     sample\u001b[38;5;241m=\u001b[39m\u001b[38;5;124mf\u001b[39m\u001b[38;5;124m\"\u001b[39m\u001b[38;5;124mFragMaP: \u001b[39m\u001b[38;5;132;01m{\u001b[39;00msample1\u001b[38;5;241m.\u001b[39msample\u001b[38;5;132;01m}\u001b[39;00m\u001b[38;5;124m/\u001b[39m\u001b[38;5;132;01m{\u001b[39;00msample2\u001b[38;5;241m.\u001b[39msample\u001b[38;5;132;01m}\u001b[39;00m\u001b[38;5;124m\"\u001b[39m,\n\u001b[1;32m    239\u001b[0m     inherit\u001b[38;5;241m=\u001b[39m[sample1, sample2],\n\u001b[1;32m    240\u001b[0m     fragmap\u001b[38;5;241m=\u001b[39mfragmap,\n\u001b[1;32m    241\u001b[0m     fragmap_sites\u001b[38;5;241m=\u001b[39mfragmap\u001b[38;5;241m.\u001b[39mget_annotation(),\n\u001b[1;32m    242\u001b[0m )\n\u001b[1;32m    243\u001b[0m \u001b[38;5;28mself\u001b[39m\u001b[38;5;241m.\u001b[39msample1 \u001b[38;5;241m=\u001b[39m sample1\n",
      "File \u001b[0;32m/workspaces/RNAvigate/rnavigate/analysis/fragmapper.py:38\u001b[0m, in \u001b[0;36mFragMaP.__init__\u001b[0;34m(self, input_data, parameters, metric, metric_defaults, read_table_kw, sequence, name)\u001b[0m\n\u001b[1;32m     36\u001b[0m \u001b[38;5;28;01mif\u001b[39;00m \u001b[38;5;28misinstance\u001b[39m(input_data, (\u001b[38;5;28mlist\u001b[39m, \u001b[38;5;28mtuple\u001b[39m)) \u001b[38;5;129;01mand\u001b[39;00m \u001b[38;5;28mlen\u001b[39m(input_data) \u001b[38;5;241m==\u001b[39m \u001b[38;5;241m2\u001b[39m:\n\u001b[1;32m     37\u001b[0m     profile1, profile2 \u001b[38;5;241m=\u001b[39m input_data\n\u001b[0;32m---> 38\u001b[0m     input_data \u001b[38;5;241m=\u001b[39m \u001b[38;5;28;43mself\u001b[39;49m\u001b[38;5;241;43m.\u001b[39;49m\u001b[43mget_dataframe\u001b[49m\u001b[43m(\u001b[49m\u001b[43mprofile1\u001b[49m\u001b[43m,\u001b[49m\u001b[43m \u001b[49m\u001b[43mprofile2\u001b[49m\u001b[43m,\u001b[49m\u001b[43m \u001b[49m\u001b[38;5;241;43m*\u001b[39;49m\u001b[38;5;241;43m*\u001b[39;49m\u001b[43mparameters\u001b[49m\u001b[43m)\u001b[49m\n\u001b[1;32m     39\u001b[0m \u001b[38;5;28;01melif\u001b[39;00m \u001b[38;5;129;01mnot\u001b[39;00m \u001b[38;5;28misinstance\u001b[39m(input_data, pd\u001b[38;5;241m.\u001b[39mDataFrame):\n\u001b[1;32m     40\u001b[0m     \u001b[38;5;28;01mraise\u001b[39;00m \u001b[38;5;167;01mValueError\u001b[39;00m(\n\u001b[1;32m     41\u001b[0m         \u001b[38;5;124m\"\u001b[39m\u001b[38;5;124mInput data must be a list of 2 shapemap profiles or a \u001b[39m\u001b[38;5;124m\"\u001b[39m\n\u001b[1;32m     42\u001b[0m         \u001b[38;5;124m\"\u001b[39m\u001b[38;5;124mpre-initialized dataframe\u001b[39m\u001b[38;5;124m\"\u001b[39m\n\u001b[1;32m     43\u001b[0m     )\n",
      "File \u001b[0;32m/workspaces/RNAvigate/rnavigate/analysis/fragmapper.py:139\u001b[0m, in \u001b[0;36mFragMaP.get_dataframe\u001b[0;34m(self, profile1, profile2, mutation_rate_threshold, depth_threshold, p_significant, ss_threshold, correction_method)\u001b[0m\n\u001b[1;32m    136\u001b[0m dataframe[\u001b[38;5;124m\"\u001b[39m\u001b[38;5;124mFragmap_pvalue\u001b[39m\u001b[38;5;124m\"\u001b[39m] \u001b[38;5;241m=\u001b[39m stats\u001b[38;5;241m.\u001b[39mnorm\u001b[38;5;241m.\u001b[39msf(dataframe[\u001b[38;5;124m\"\u001b[39m\u001b[38;5;124mFragmap_profile\u001b[39m\u001b[38;5;124m\"\u001b[39m])\n\u001b[1;32m    138\u001b[0m \u001b[38;5;66;03m# Calculate T-statistic and P-value\u001b[39;00m\n\u001b[0;32m--> 139\u001b[0m dataframe[\u001b[38;5;124m\"\u001b[39m\u001b[38;5;124mtstat\u001b[39m\u001b[38;5;124m\"\u001b[39m], dataframe[\u001b[38;5;124m\"\u001b[39m\u001b[38;5;124mpvalue\u001b[39m\u001b[38;5;124m\"\u001b[39m] \u001b[38;5;241m=\u001b[39m \u001b[43mstats\u001b[49m\u001b[38;5;241;43m.\u001b[39;49m\u001b[43mttest_ind_from_stats\u001b[49m\u001b[43m(\u001b[49m\n\u001b[1;32m    140\u001b[0m \u001b[43m    \u001b[49m\u001b[43mmean1\u001b[49m\u001b[38;5;241;43m=\u001b[39;49m\u001b[43mdataframe\u001b[49m\u001b[43m[\u001b[49m\u001b[38;5;124;43m\"\u001b[39;49m\u001b[38;5;124;43mModified_rate_1\u001b[39;49m\u001b[38;5;124;43m\"\u001b[39;49m\u001b[43m]\u001b[49m\u001b[43m,\u001b[49m\n\u001b[1;32m    141\u001b[0m \u001b[43m    \u001b[49m\u001b[43mstd1\u001b[49m\u001b[38;5;241;43m=\u001b[39;49m\u001b[43mdataframe\u001b[49m\u001b[43m[\u001b[49m\u001b[38;5;124;43m\"\u001b[39;49m\u001b[38;5;124;43mStd_err_1\u001b[39;49m\u001b[38;5;124;43m\"\u001b[39;49m\u001b[43m]\u001b[49m\u001b[43m,\u001b[49m\n\u001b[1;32m    142\u001b[0m \u001b[43m    \u001b[49m\u001b[43mnobs1\u001b[49m\u001b[38;5;241;43m=\u001b[39;49m\u001b[43mdataframe\u001b[49m\u001b[43m[\u001b[49m\u001b[38;5;124;43m\"\u001b[39;49m\u001b[38;5;124;43mModified_effective_depth_1\u001b[39;49m\u001b[38;5;124;43m\"\u001b[39;49m\u001b[43m]\u001b[49m\u001b[43m,\u001b[49m\n\u001b[1;32m    143\u001b[0m \u001b[43m    \u001b[49m\u001b[43mmean2\u001b[49m\u001b[38;5;241;43m=\u001b[39;49m\u001b[43mdataframe\u001b[49m\u001b[43m[\u001b[49m\u001b[38;5;124;43m\"\u001b[39;49m\u001b[38;5;124;43mModified_rate_2\u001b[39;49m\u001b[38;5;124;43m\"\u001b[39;49m\u001b[43m]\u001b[49m\u001b[43m,\u001b[49m\n\u001b[1;32m    144\u001b[0m \u001b[43m    \u001b[49m\u001b[43mstd2\u001b[49m\u001b[38;5;241;43m=\u001b[39;49m\u001b[43mdataframe\u001b[49m\u001b[43m[\u001b[49m\u001b[38;5;124;43m\"\u001b[39;49m\u001b[38;5;124;43mStd_err_2\u001b[39;49m\u001b[38;5;124;43m\"\u001b[39;49m\u001b[43m]\u001b[49m\u001b[43m,\u001b[49m\n\u001b[1;32m    145\u001b[0m \u001b[43m    \u001b[49m\u001b[43mnobs2\u001b[49m\u001b[38;5;241;43m=\u001b[39;49m\u001b[43mdataframe\u001b[49m\u001b[43m[\u001b[49m\u001b[38;5;124;43m\"\u001b[39;49m\u001b[38;5;124;43mModified_effective_depth_2\u001b[39;49m\u001b[38;5;124;43m\"\u001b[39;49m\u001b[43m]\u001b[49m\u001b[43m,\u001b[49m\n\u001b[1;32m    146\u001b[0m \u001b[43m    \u001b[49m\u001b[43mequal_var\u001b[49m\u001b[38;5;241;43m=\u001b[39;49m\u001b[38;5;28;43;01mFalse\u001b[39;49;00m\u001b[43m,\u001b[49m\n\u001b[1;32m    147\u001b[0m \u001b[43m\u001b[49m\u001b[43m)\u001b[49m\n\u001b[1;32m    149\u001b[0m \u001b[38;5;66;03m# Bonferoni p-value correction\u001b[39;00m\n\u001b[1;32m    150\u001b[0m p_significant \u001b[38;5;241m=\u001b[39m p_significant \u001b[38;5;241m/\u001b[39m \u001b[38;5;28mlen\u001b[39m(dataframe)\n",
      "File \u001b[0;32m/usr/local/lib/python3.11/site-packages/scipy/stats/_stats_py.py:7091\u001b[0m, in \u001b[0;36mttest_ind_from_stats\u001b[0;34m(mean1, std1, nobs1, mean2, std2, nobs2, equal_var, alternative)\u001b[0m\n\u001b[1;32m   7087\u001b[0m \u001b[38;5;28;01melse\u001b[39;00m:\n\u001b[1;32m   7088\u001b[0m     df, denom \u001b[38;5;241m=\u001b[39m _unequal_var_ttest_denom(std1\u001b[38;5;241m*\u001b[39m\u001b[38;5;241m*\u001b[39m\u001b[38;5;241m2\u001b[39m, nobs1,\n\u001b[1;32m   7089\u001b[0m                                          std2\u001b[38;5;241m*\u001b[39m\u001b[38;5;241m*\u001b[39m\u001b[38;5;241m2\u001b[39m, nobs2)\n\u001b[0;32m-> 7091\u001b[0m res \u001b[38;5;241m=\u001b[39m \u001b[43m_ttest_ind_from_stats\u001b[49m\u001b[43m(\u001b[49m\u001b[43mmean1\u001b[49m\u001b[43m,\u001b[49m\u001b[43m \u001b[49m\u001b[43mmean2\u001b[49m\u001b[43m,\u001b[49m\u001b[43m \u001b[49m\u001b[43mdenom\u001b[49m\u001b[43m,\u001b[49m\u001b[43m \u001b[49m\u001b[43mdf\u001b[49m\u001b[43m,\u001b[49m\u001b[43m \u001b[49m\u001b[43malternative\u001b[49m\u001b[43m)\u001b[49m\n\u001b[1;32m   7092\u001b[0m \u001b[38;5;28;01mreturn\u001b[39;00m Ttest_indResult(\u001b[38;5;241m*\u001b[39mres)\n",
      "File \u001b[0;32m/usr/local/lib/python3.11/site-packages/scipy/stats/_stats_py.py:6922\u001b[0m, in \u001b[0;36m_ttest_ind_from_stats\u001b[0;34m(mean1, mean2, denom, df, alternative)\u001b[0m\n\u001b[1;32m   6920\u001b[0m d \u001b[38;5;241m=\u001b[39m mean1 \u001b[38;5;241m-\u001b[39m mean2\n\u001b[1;32m   6921\u001b[0m \u001b[38;5;28;01mwith\u001b[39;00m np\u001b[38;5;241m.\u001b[39merrstate(divide\u001b[38;5;241m=\u001b[39m\u001b[38;5;124m'\u001b[39m\u001b[38;5;124mignore\u001b[39m\u001b[38;5;124m'\u001b[39m, invalid\u001b[38;5;241m=\u001b[39m\u001b[38;5;124m'\u001b[39m\u001b[38;5;124mignore\u001b[39m\u001b[38;5;124m'\u001b[39m):\n\u001b[0;32m-> 6922\u001b[0m     t \u001b[38;5;241m=\u001b[39m \u001b[43mnp\u001b[49m\u001b[38;5;241;43m.\u001b[39;49m\u001b[43mdivide\u001b[49m\u001b[43m(\u001b[49m\u001b[43md\u001b[49m\u001b[43m,\u001b[49m\u001b[43m \u001b[49m\u001b[43mdenom\u001b[49m\u001b[43m)\u001b[49m\u001b[43m[\u001b[49m\u001b[43m(\u001b[49m\u001b[43m)\u001b[49m\u001b[43m]\u001b[49m\n\u001b[1;32m   6923\u001b[0m prob \u001b[38;5;241m=\u001b[39m _get_pvalue(t, distributions\u001b[38;5;241m.\u001b[39mt(df), alternative)\n\u001b[1;32m   6925\u001b[0m \u001b[38;5;28;01mreturn\u001b[39;00m (t, prob)\n",
      "File \u001b[0;32m/usr/local/lib/python3.11/site-packages/pandas/core/series.py:1144\u001b[0m, in \u001b[0;36mSeries.__getitem__\u001b[0;34m(self, key)\u001b[0m\n\u001b[1;32m   1141\u001b[0m     key \u001b[38;5;241m=\u001b[39m np\u001b[38;5;241m.\u001b[39masarray(key, dtype\u001b[38;5;241m=\u001b[39m\u001b[38;5;28mbool\u001b[39m)\n\u001b[1;32m   1142\u001b[0m     \u001b[38;5;28;01mreturn\u001b[39;00m \u001b[38;5;28mself\u001b[39m\u001b[38;5;241m.\u001b[39m_get_rows_with_mask(key)\n\u001b[0;32m-> 1144\u001b[0m \u001b[38;5;28;01mreturn\u001b[39;00m \u001b[38;5;28;43mself\u001b[39;49m\u001b[38;5;241;43m.\u001b[39;49m\u001b[43m_get_with\u001b[49m\u001b[43m(\u001b[49m\u001b[43mkey\u001b[49m\u001b[43m)\u001b[49m\n",
      "File \u001b[0;32m/usr/local/lib/python3.11/site-packages/pandas/core/series.py:1154\u001b[0m, in \u001b[0;36mSeries._get_with\u001b[0;34m(self, key)\u001b[0m\n\u001b[1;32m   1149\u001b[0m     \u001b[38;5;28;01mraise\u001b[39;00m \u001b[38;5;167;01mTypeError\u001b[39;00m(\n\u001b[1;32m   1150\u001b[0m         \u001b[38;5;124m\"\u001b[39m\u001b[38;5;124mIndexing a Series with DataFrame is not \u001b[39m\u001b[38;5;124m\"\u001b[39m\n\u001b[1;32m   1151\u001b[0m         \u001b[38;5;124m\"\u001b[39m\u001b[38;5;124msupported, use the appropriate DataFrame column\u001b[39m\u001b[38;5;124m\"\u001b[39m\n\u001b[1;32m   1152\u001b[0m     )\n\u001b[1;32m   1153\u001b[0m \u001b[38;5;28;01melif\u001b[39;00m \u001b[38;5;28misinstance\u001b[39m(key, \u001b[38;5;28mtuple\u001b[39m):\n\u001b[0;32m-> 1154\u001b[0m     \u001b[38;5;28;01mreturn\u001b[39;00m \u001b[38;5;28;43mself\u001b[39;49m\u001b[38;5;241;43m.\u001b[39;49m\u001b[43m_get_values_tuple\u001b[49m\u001b[43m(\u001b[49m\u001b[43mkey\u001b[49m\u001b[43m)\u001b[49m\n\u001b[1;32m   1156\u001b[0m \u001b[38;5;28;01melif\u001b[39;00m \u001b[38;5;129;01mnot\u001b[39;00m is_list_like(key):\n\u001b[1;32m   1157\u001b[0m     \u001b[38;5;66;03m# e.g. scalars that aren't recognized by lib.is_scalar, GH#32684\u001b[39;00m\n\u001b[1;32m   1158\u001b[0m     \u001b[38;5;28;01mreturn\u001b[39;00m \u001b[38;5;28mself\u001b[39m\u001b[38;5;241m.\u001b[39mloc[key]\n",
      "File \u001b[0;32m/usr/local/lib/python3.11/site-packages/pandas/core/series.py:1198\u001b[0m, in \u001b[0;36mSeries._get_values_tuple\u001b[0;34m(self, key)\u001b[0m\n\u001b[1;32m   1195\u001b[0m     \u001b[38;5;28;01mreturn\u001b[39;00m result\n\u001b[1;32m   1197\u001b[0m \u001b[38;5;28;01mif\u001b[39;00m \u001b[38;5;129;01mnot\u001b[39;00m \u001b[38;5;28misinstance\u001b[39m(\u001b[38;5;28mself\u001b[39m\u001b[38;5;241m.\u001b[39mindex, MultiIndex):\n\u001b[0;32m-> 1198\u001b[0m     \u001b[38;5;28;01mraise\u001b[39;00m \u001b[38;5;167;01mKeyError\u001b[39;00m(\u001b[38;5;124m\"\u001b[39m\u001b[38;5;124mkey of type tuple not found and not a MultiIndex\u001b[39m\u001b[38;5;124m\"\u001b[39m)\n\u001b[1;32m   1200\u001b[0m \u001b[38;5;66;03m# If key is contained, would have returned by now\u001b[39;00m\n\u001b[1;32m   1201\u001b[0m indexer, new_index \u001b[38;5;241m=\u001b[39m \u001b[38;5;28mself\u001b[39m\u001b[38;5;241m.\u001b[39mindex\u001b[38;5;241m.\u001b[39mget_loc_level(key)\n",
      "\u001b[0;31mKeyError\u001b[0m: 'key of type tuple not found and not a MultiIndex'"
     ]
    }
   ],
   "source": [
    "# Run Fragmapper analysis and saving a FragMaP profile object\n",
    "# NOTE: Fragmapper requires 1 test sample and 1 control sample\n",
    "qn_fm = rnav.analysis.Fragmapper(quinaxoline, methyl)\n",
    "lnz_fm = rnav.analysis.Fragmapper(linezolid, methyl)\n"
   ]
  },
  {
   "cell_type": "markdown",
   "metadata": {},
   "source": [
    "## FragMaP scatter plots"
   ]
  },
  {
   "cell_type": "markdown",
   "metadata": {},
   "source": [
    "### Scatter plot with FragMaP profiles"
   ]
  },
  {
   "cell_type": "code",
   "execution_count": null,
   "metadata": {},
   "outputs": [
    {
     "ename": "",
     "evalue": "",
     "output_type": "error",
     "traceback": [
      "\u001b[1;31mRunning cells with 'Python 3.11.8' requires the ipykernel package.\n",
      "\u001b[1;31mRun the following command to install 'ipykernel' into the Python environment. \n",
      "\u001b[1;31mCommand: '/usr/local/bin/python -m pip install ipykernel -U --user --force-reinstall'"
     ]
    }
   ],
   "source": [
    "# FragMapper.plot_scatter()\n",
    "fig, ax = lnz_fm.plot_scatter(column='zscore')\n",
    "fig, ax = qn_fm.plot_scatter(column='zscore')\n"
   ]
  },
  {
   "cell_type": "markdown",
   "metadata": {},
   "source": [
    "### Scatter plot with raw mutation rates"
   ]
  },
  {
   "cell_type": "code",
   "execution_count": null,
   "metadata": {},
   "outputs": [
    {
     "ename": "",
     "evalue": "",
     "output_type": "error",
     "traceback": [
      "\u001b[1;31mRunning cells with 'Python 3.11.8' requires the ipykernel package.\n",
      "\u001b[1;31mRun the following command to install 'ipykernel' into the Python environment. \n",
      "\u001b[1;31mCommand: '/usr/local/bin/python -m pip install ipykernel -U --user --force-reinstall'"
     ]
    }
   ],
   "source": [
    "# FragMaP_profile_object.plot_scatter()\n",
    "fig1, ax1 = lnz_fm.plot_scatter()\n",
    "fig2, ax2 = qn_fm.plot_scatter()\n"
   ]
  },
  {
   "cell_type": "markdown",
   "metadata": {},
   "source": [
    "## View FragMaP profile"
   ]
  },
  {
   "cell_type": "code",
   "execution_count": null,
   "metadata": {},
   "outputs": [
    {
     "ename": "",
     "evalue": "",
     "output_type": "error",
     "traceback": [
      "\u001b[1;31mRunning cells with 'Python 3.11.8' requires the ipykernel package.\n",
      "\u001b[1;31mRun the following command to install 'ipykernel' into the Python environment. \n",
      "\u001b[1;31mCommand: '/usr/local/bin/python -m pip install ipykernel -U --user --force-reinstall'"
     ]
    }
   ],
   "source": [
    "plot = rnav.plot_profile(\n",
    "    samples=[lnz_fm],\n",
    "    profile=\"fragmap\",\n",
    "    region=[2000, 2700],\n",
    "    sequence='shapemap',\n",
    "    )\n",
    "ax = plot.axes[0, 0]\n",
    "ax.set(\n",
    "    ylim=[-2, 10])\n",
    "ax.legend(['ZLD FragMaP Profile']);\n"
   ]
  },
  {
   "cell_type": "markdown",
   "metadata": {},
   "source": [
    "## View raw sample data"
   ]
  },
  {
   "cell_type": "code",
   "execution_count": null,
   "metadata": {},
   "outputs": [
    {
     "ename": "",
     "evalue": "",
     "output_type": "error",
     "traceback": [
      "\u001b[1;31mRunning cells with 'Python 3.11.8' requires the ipykernel package.\n",
      "\u001b[1;31mRun the following command to install 'ipykernel' into the Python environment. \n",
      "\u001b[1;31mCommand: '/usr/local/bin/python -m pip install ipykernel -U --user --force-reinstall'"
     ]
    }
   ],
   "source": [
    "plot = rnav.plot_skyline(\n",
    "    samples=[lnz_fm],\n",
    "    profile=\"fragmap\",\n",
    "    columns=[\"Modified_rate_1\", \"Modified_rate_2\", \"Delta_rate\"],\n",
    "    sequence=\"shapemap\",\n",
    "    region=[2000, 2700],\n",
    "    annotations=[\"fragmap_sites\"],\n",
    "    annotations_mode='bar',\n",
    "    plot_kwargs={\"subplot_kw\": {\"ylim\": (-0.01, 0.2)}},\n",
    "    )\n",
    "\n",
    "plot.axes[0, 0].legend(\n",
    "    [\"ZLD mutation rate\", \"methyl mutation rate\", \"delta rate\"]\n",
    "    );\n"
   ]
  },
  {
   "cell_type": "markdown",
   "metadata": {},
   "source": [
    "## View FragMaP site annotation in secondary structure"
   ]
  },
  {
   "cell_type": "code",
   "execution_count": null,
   "metadata": {},
   "outputs": [
    {
     "ename": "",
     "evalue": "",
     "output_type": "error",
     "traceback": [
      "\u001b[1;31mRunning cells with 'Python 3.11.8' requires the ipykernel package.\n",
      "\u001b[1;31mRun the following command to install 'ipykernel' into the Python environment. \n",
      "\u001b[1;31mCommand: '/usr/local/bin/python -m pip install ipykernel -U --user --force-reinstall'"
     ]
    }
   ],
   "source": [
    "with rnav.styles.Settings({'ss': {'structure': {'linewidth': 2}}}):\n",
    "    plot = rnav.plot_ss(\n",
    "        [lnz_fm],\n",
    "        profile='fragmap',\n",
    "        structure='ss',\n",
    "        colors={'structure': 'sequence',\n",
    "                'nucleotides': 'none',},\n",
    "        bp_style='conventional',\n",
    "        annotations=['fragmap_sites'],\n",
    "        nt_ticks=100\n",
    "        )\n"
   ]
  }
 ],
 "metadata": {
  "kernelspec": {
   "display_name": "RNAvigate",
   "language": "python",
   "name": "python3"
  },
  "language_info": {
   "codemirror_mode": {
    "name": "ipython",
    "version": 3
   },
   "file_extension": ".py",
   "mimetype": "text/x-python",
   "name": "python",
   "nbconvert_exporter": "python",
   "pygments_lexer": "ipython3",
   "version": "3.11.8"
  },
  "orig_nbformat": 4
 },
 "nbformat": 4,
 "nbformat_minor": 2
}
