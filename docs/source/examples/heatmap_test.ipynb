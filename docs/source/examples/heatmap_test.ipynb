{
 "cells": [
  {
   "cell_type": "markdown",
   "metadata": {},
   "source": [
    "Heatmap plot testing\n",
    "====================\n",
    "example heat map plots to implement in starmapper.py\n",
    "\n",
    "Currently Broken\n",
    "----------------\n",
    "* i, j  data is shifted by 1, because axis is 0-indexed."
   ]
  },
  {
   "cell_type": "markdown",
   "metadata": {},
   "source": [
    "Notebook set-up\n",
    "---------------"
   ]
  },
  {
   "cell_type": "code",
   "execution_count": null,
   "metadata": {},
   "outputs": [],
   "source": [
    "# This sets plots to display in-line by default\n",
    "%matplotlib inline\n",
    "\n",
    "# Import module, for high-level functions, no additional modules are needed\n",
    "import starmapper as MaP\n",
    "\n",
    "# Creates an HTML button that hides/shows code cells\n",
    "# Useful for lab notebook reports and research updates\n",
    "# NOTE: this does not display well on GitHub.\n",
    "MaP.create_code_button()"
   ]
  },
  {
   "cell_type": "markdown",
   "metadata": {},
   "source": [
    "Initializing MaP sample\n",
    "-----------------------\n",
    "If you have consistently named files, (which you should), you can use a function to create a dictionary of keyword arguments (kwargs). Then, \"unpack\" the dictionary using the double asterisk."
   ]
  },
  {
   "cell_type": "code",
   "execution_count": null,
   "metadata": {},
   "outputs": [],
   "source": [
    "def return_sample(sample, path):\n",
    "    return MaP.Sample(sample = sample,\n",
    "                      profile = path+sample+\"_rnasep_profile.txt\",\n",
    "                      ct = path+\"RNaseP.ct\",\n",
    "                      ss = path+\"RC_CRYSTAL_STRUCTURE.xrna\",\n",
    "                      rings = path+sample+\"-rnasep.corrs\",\n",
    "                      pairs = path+sample+\"-rnasep-pairmap.txt\",\n",
    "                      log = path+sample+\"_shapemapper_log.txt\",\n",
    "                      dance_prefix = path+sample+\"_rnasep\",\n",
    "                      deletions = path+\"example-rnasep-deletions.txt\",\n",
    "                      fasta = path+\"RNaseP-noSC.fasta\",\n",
    "                      pdb = path+\"3dhs_Correct.pdb\",\n",
    "                      pdb_kwargs = {\"chain\":\"A\"})\n",
    "\n",
    "example = return_sample(\"example2\", \"data/\")"
   ]
  },
  {
   "cell_type": "code",
   "execution_count": null,
   "metadata": {
    "tags": []
   },
   "outputs": [],
   "source": [
    "example.make_heatmap(structure=\"pdb\", ij=\"deletions\")"
   ]
  },
  {
   "cell_type": "code",
   "execution_count": null,
   "metadata": {},
   "outputs": [],
   "source": [
    "example.make_heatmap(structure=\"ct\", ij=\"deletions\")"
   ]
  },
  {
   "cell_type": "code",
   "execution_count": null,
   "metadata": {},
   "outputs": [],
   "source": [
    "example.make_heatmap(structure=\"pdb\", ij=\"rings\")"
   ]
  },
  {
   "cell_type": "code",
   "execution_count": null,
   "metadata": {},
   "outputs": [],
   "source": [
    "example.make_heatmap(structure=\"ct\", ij=\"rings\")"
   ]
  },
  {
   "cell_type": "code",
   "execution_count": null,
   "metadata": {},
   "outputs": [],
   "source": [
    "example.make_heatmap(structure=\"pdb\", ij=\"pairs\")"
   ]
  },
  {
   "cell_type": "code",
   "execution_count": null,
   "metadata": {},
   "outputs": [],
   "source": [
    "example.make_heatmap(structure=\"ct\", ij=\"pairs\")"
   ]
  },
  {
   "cell_type": "code",
   "execution_count": null,
   "metadata": {},
   "outputs": [],
   "source": []
  }
 ],
 "metadata": {
  "interpreter": {
   "hash": "6c33f2e669c4252adcb6b35df72ed100d5670b3dff543db2a50ccff0137b1beb"
  },
  "kernelspec": {
   "display_name": "Python 3.7.9 64-bit ('base': conda)",
   "name": "python3"
  },
  "language_info": {
   "codemirror_mode": {
    "name": "ipython",
    "version": 3
   },
   "file_extension": ".py",
   "mimetype": "text/x-python",
   "name": "python",
   "nbconvert_exporter": "python",
   "pygments_lexer": "ipython3",
   "version": "3.7.9"
  }
 },
 "nbformat": 4,
 "nbformat_minor": 4
}
