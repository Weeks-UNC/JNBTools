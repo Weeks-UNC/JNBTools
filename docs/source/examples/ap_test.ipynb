{
 "cells": [
  {
   "cell_type": "markdown",
   "metadata": {},
   "source": [
    "Arc Plot options\n",
    "================\n",
    "This test script is to test implemented features with Arc Plots.\n",
    "\n",
    "You can also use it to view the different options and how they look.\n",
    "The function calls are likely to stay the same, but the default plots\n",
    "may look a little different in the future.\n",
    "\n",
    "Current limitations\n",
    "-------------------\n",
    "* coloring pairs by distance"
   ]
  },
  {
   "cell_type": "markdown",
   "metadata": {},
   "source": [
    "Notebook set-up\n",
    "---------------"
   ]
  },
  {
   "cell_type": "code",
   "execution_count": null,
   "metadata": {},
   "outputs": [],
   "source": [
    "# This sets plots to display in-line by default\n",
    "%matplotlib inline\n",
    "\n",
    "# Import module, for high-level functions, no additional modules are needed\n",
    "import starmapper as MaP"
   ]
  },
  {
   "cell_type": "markdown",
   "metadata": {},
   "source": [
    "Initializing MaP sample\n",
    "-----------------------\n",
    "If you have consistently named files, (which you should), you can use a function to create a dictionary of keyword arguments (kwargs). Then, \"unpack\" the dictionary using the double asterisk."
   ]
  },
  {
   "cell_type": "code",
   "execution_count": null,
   "metadata": {},
   "outputs": [],
   "source": [
    "path = 'data/'\n",
    "\n",
    "\n",
    "def return_sample(sample):\n",
    "    return MaP.Sample(sample=sample,\n",
    "                      profile =      path+sample+\"_rnasep_profile.txt\",\n",
    "                      ct =           path+\"RNaseP.ct\",\n",
    "                      rings =        path+sample+\"-rnasep.corrs\",\n",
    "                      pairs =        path+sample+\"-rnasep-pairmap.txt\",\n",
    "                      probs =        path+\"rnasep.dp\",\n",
    "                      dance_prefix = path+sample+\"_rnasep\",\n",
    "                      deletions =    path+\"example-rnasep-deletions.txt\",\n",
    "                      fasta =        path+\"RNaseP-noSC.fasta\",\n",
    "                      pdb =          path+\"3dhs_Correct.pdb\",\n",
    "                      pdb_kwargs =   {\"chain\":\"A\"})\n",
    "\n",
    "\n",
    "example1 = return_sample(\"example1\")\n",
    "example2 = return_sample(\"example2\")\n",
    "example3 = return_sample(\"example3\")\n",
    "example4 = return_sample(\"example4\")"
   ]
  },
  {
   "cell_type": "code",
   "execution_count": null,
   "metadata": {},
   "outputs": [],
   "source": [
    "example1.make_ap(ij=\"probs\")"
   ]
  },
  {
   "cell_type": "code",
   "execution_count": null,
   "metadata": {},
   "outputs": [],
   "source": [
    "example1.make_ap_multifilter([{\"ij\":\"rings\", \"cdBelow\":30, \"profBelow\":2},\n",
    "                             {\"ij\":\"rings\", \"metric\":\"Zij\", \"Zij\":2, \"Sign\":0},\n",
    "                             {\"ij\":\"pairs\", \"all_pairs\":True},\n",
    "                             {\"ij\":\"deletions\", \"metric\":\"Distance\", \"Percentile\":0.98, \"ds_only\":True}])"
   ]
  },
  {
   "cell_type": "code",
   "execution_count": null,
   "metadata": {},
   "outputs": [],
   "source": [
    "MaP.array_ap([example1, example2, example3, example4], ij=\"pairs\", metric=\"Distance\")"
   ]
  },
  {
   "cell_type": "code",
   "execution_count": null,
   "metadata": {},
   "outputs": [],
   "source": []
  }
 ],
 "metadata": {
  "interpreter": {
   "hash": "6c33f2e669c4252adcb6b35df72ed100d5670b3dff543db2a50ccff0137b1beb"
  },
  "kernelspec": {
   "display_name": "Python 3.7.9 64-bit ('base': conda)",
   "name": "python3"
  },
  "language_info": {
   "codemirror_mode": {
    "name": "ipython",
    "version": 3
   },
   "file_extension": ".py",
   "mimetype": "text/x-python",
   "name": "python",
   "nbconvert_exporter": "python",
   "pygments_lexer": "ipython3",
   "version": "3.7.9"
  }
 },
 "nbformat": 4,
 "nbformat_minor": 4
}
