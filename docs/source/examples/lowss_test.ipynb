{
 "cells": [
  {
   "cell_type": "markdown",
   "metadata": {},
   "source": [
    "Low SHAPE, Low Shannon Entropy (LowSS)\n",
    "--------------------------------------\n",
    "In this analysis, we are looking for regions of high confidence structure prediction. Regions with low SHAPE reactivity suggest a high degree of structure, and regions of low shannon entropy based on pairing probabilities suggest a single well defined structure.\n",
    "\n",
    "Passing a MaP.Sample object to the LowSS() analysis function results in a plot with 4 parts. The first is the regional ROC AUC, a metric of how well the reactivity profile fits the MFE predicted structure. The next two include the windowed median SHAPE reactivity and windowed median shannon entropy. These data define regions of LowSS, shown in vertical gray bars. Finally, an arc plot shows the predicted MFE structure and pairing probabilities."
   ]
  },
  {
   "cell_type": "code",
   "execution_count": null,
   "metadata": {},
   "outputs": [],
   "source": [
    "import starmapper as MaP\n",
    "from starmapper.analysis import LowSS\n",
    "\n",
    "example = MaP.Sample(sample=\"LowSS Test\",\n",
    "                     profile=\"data/example1_rnasep_profile.txt\",\n",
    "                     probs=\"data/rnasep.dp\",\n",
    "                     ct=\"data/RNaseP.ct\")\n",
    "LowSS(example)"
   ]
  }
 ],
 "metadata": {
  "celltoolbar": "Slideshow",
  "interpreter": {
   "hash": "201c7ecc5a787c7de171c5022b1ad869e2e24f274e3bead37c3179eed611e8c7"
  },
  "kernelspec": {
   "display_name": "Python 3.7.3 64-bit ('base': conda)",
   "name": "python3"
  },
  "language_info": {
   "codemirror_mode": {
    "name": "ipython",
    "version": 3
   },
   "file_extension": ".py",
   "mimetype": "text/x-python",
   "name": "python",
   "nbconvert_exporter": "python",
   "pygments_lexer": "ipython3",
   "version": "3.7.9"
  }
 },
 "nbformat": 4,
 "nbformat_minor": 4
}
