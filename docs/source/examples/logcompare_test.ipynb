{
 "cells": [
  {
   "cell_type": "markdown",
   "metadata": {},
   "source": [
    "3D model options test script\n",
    "============================\n",
    "This test script is to test implemented features with tertiary structures.\n",
    "\n",
    "You can also use it to view the different options and how they look.\n",
    "The function calls are likely to stay the same, but the default plots\n",
    "may look a little different in the future.\n",
    "\n",
    "Currently broken\n",
    "----------------\n",
    "* nothing that I'm aware of"
   ]
  },
  {
   "cell_type": "markdown",
   "metadata": {},
   "source": [
    "Notebook set-up\n",
    "---------------"
   ]
  },
  {
   "cell_type": "code",
   "execution_count": null,
   "metadata": {},
   "outputs": [],
   "source": [
    "import starmapper as MaP\n",
    "\n",
    "example1 = MaP.Sample(sample=\"example1\",\n",
    "                     profile=\"data/example1_rnasep_profile.txt\")\n",
    "example2 = MaP.Sample(sample=\"example2\",\n",
    "                     profile=\"data/example2_rnasep_profile.txt\")\n",
    "example3 = MaP.Sample(sample=\"example3\",\n",
    "                     profile=\"data/example3_rnasep_profile.txt\")\n",
    "example4 = MaP.Sample(sample=\"example4\",\n",
    "                     profile=\"data/example4_rnasep_profile.txt\")\n",
    "examples1 = [example1, example3]\n",
    "examples2 = [example2, example4]\n",
    "\n",
    "MaP.LogCompare(examples1, examples2, \"examples1\", \"examples2\")\n"
   ]
  },
  {
   "cell_type": "code",
   "execution_count": null,
   "metadata": {},
   "outputs": [],
   "source": []
  }
 ],
 "metadata": {
  "interpreter": {
   "hash": "6c33f2e669c4252adcb6b35df72ed100d5670b3dff543db2a50ccff0137b1beb"
  },
  "kernelspec": {
   "display_name": "Python 3.7.9 64-bit ('base': conda)",
   "language": "python",
   "name": "python3"
  },
  "language_info": {
   "codemirror_mode": {
    "name": "ipython",
    "version": 3
   },
   "file_extension": ".py",
   "mimetype": "text/x-python",
   "name": "python",
   "nbconvert_exporter": "python",
   "pygments_lexer": "ipython3",
   "version": "3.7.9"
  }
 },
 "nbformat": 4,
 "nbformat_minor": 4
}
