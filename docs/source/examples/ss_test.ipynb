{
 "cells": [
  {
   "cell_type": "markdown",
   "metadata": {},
   "source": [
    "Secondary Structure options\n",
    "===========================\n",
    "This test script is to test implemented features with 2D secondary structures.\n",
    "\n",
    "You can also use it to view the different options and how they look.\n",
    "The function calls are likely to stay the same, but the default plots\n",
    "may look a little different in the future.\n",
    "\n",
    "Currently broken:\n",
    "* nothing that I'm aware of"
   ]
  },
  {
   "cell_type": "markdown",
   "metadata": {},
   "source": [
    "Notebook set-up\n",
    "---------------"
   ]
  },
  {
   "cell_type": "code",
   "execution_count": null,
   "metadata": {},
   "outputs": [],
   "source": [
    "# This sets plots to display in-line by default\n",
    "%matplotlib inline\n",
    "\n",
    "# Import module, for high-level functions, no additional modules are needed\n",
    "import starmapper as MaP\n",
    "\n",
    "# Creates an HTML button that hides/shows code cells\n",
    "# Useful for lab notebook reports and research updates\n",
    "# NOTE: this does not display well on GitHub.\n",
    "MaP.create_code_button()"
   ]
  },
  {
   "cell_type": "markdown",
   "metadata": {},
   "source": [
    "Initializing MaP sample\n",
    "-----------------------\n",
    "If you have consistently named files, (which you should), you can use a function to create a dictionary of keyword arguments (kwargs). Then, \"unpack\" the dictionary using the double asterisk."
   ]
  },
  {
   "cell_type": "code",
   "execution_count": null,
   "metadata": {},
   "outputs": [],
   "source": [
    "path = 'data/'\n",
    "def kwargs(sample):\n",
    "    kwargs = {}\n",
    "    kwargs[\"sample\"] = sample\n",
    "    kwargs[\"profile\"] = path+sample+\"_rnasep_profile.txt\"\n",
    "    kwargs[\"ct\"] = path+\"RNaseP.ct\"\n",
    "    kwargs[\"ss\"] = path+\"RC_CRYSTAL_STRUCTURE.xrna\"\n",
    "    kwargs[\"rings\"] = path+sample+\"-rnasep.corrs\"\n",
    "    kwargs[\"pairs\"] = path+sample+\"-rnasep-pairmap.txt\"\n",
    "    kwargs[\"log\"] = path+sample+\"_shapemapper_log.txt\"\n",
    "    kwargs[\"dance_prefix\"] = path+sample+\"_rnasep\"\n",
    "    kwargs[\"deletions\"] = path+\"example-rnasep-deletions.txt\"\n",
    "    kwargs[\"fasta\"] = path+\"RNaseP-noSC.fasta\"\n",
    "    kwargs[\"pdb\"] = path+\"3dhs_Correct.pdb\"\n",
    "    kwargs[\"pdb_kwargs\"] = {\"chain\":\"A\"}\n",
    "    return kwargs\n",
    "\n",
    "example = MaP.Sample(**kwargs(\"example2\"))"
   ]
  },
  {
   "cell_type": "code",
   "execution_count": null,
   "metadata": {},
   "outputs": [],
   "source": [
    "example.make_ss(ij=\"deletions\", metric=\"Distance\", Percentile=0.98)"
   ]
  },
  {
   "cell_type": "code",
   "execution_count": null,
   "metadata": {},
   "outputs": [],
   "source": [
    "example.make_ss_multifilter([{\"ij\":\"pairs\", \"all_pairs\":True},\n",
    "                             {\"ij\":\"rings\", \"metric\":\"Zij\", \"Zij\":10, \"profAbove\":0.8},\n",
    "                             {\"ij\":\"deletions\", \"Percentile\":0.95, \"ss_only\":True},\n",
    "                             {\"ij\":\"rings\", \"metric\":\"Statistic\", \"Statistic\":20, \"cdAbove\":20}\n",
    "                            ])"
   ]
  },
  {
   "cell_type": "code",
   "execution_count": null,
   "metadata": {},
   "outputs": [],
   "source": []
  }
 ],
 "metadata": {
  "interpreter": {
   "hash": "4b7249f39be8a928512e41dc62465227edd9964f00c75d70c342e9c6959e5a57"
  },
  "kernelspec": {
   "display_name": "Python 3.7.3 ('base')",
   "language": "python",
   "name": "python3"
  },
  "language_info": {
   "codemirror_mode": {
    "name": "ipython",
    "version": 3
   },
   "file_extension": ".py",
   "mimetype": "text/x-python",
   "name": "python",
   "nbconvert_exporter": "python",
   "pygments_lexer": "ipython3",
   "version": "3.7.3"
  }
 },
 "nbformat": 4,
 "nbformat_minor": 4
}
