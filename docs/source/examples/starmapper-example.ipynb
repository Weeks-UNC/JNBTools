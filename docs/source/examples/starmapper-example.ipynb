{
 "cells": [
  {
   "cell_type": "markdown",
   "metadata": {
    "slideshow": {
     "slide_type": "slide"
    }
   },
   "source": [
    "Overview of plotting a single sample\n",
    "===================================="
   ]
  },
  {
   "cell_type": "markdown",
   "metadata": {},
   "source": [
    "Setup the environment\n",
    "---------------------"
   ]
  },
  {
   "cell_type": "code",
   "execution_count": null,
   "metadata": {},
   "outputs": [],
   "source": [
    "%matplotlib inline\n",
    "import starmapper as MaP"
   ]
  },
  {
   "cell_type": "markdown",
   "metadata": {
    "slideshow": {
     "slide_type": "slide"
    }
   },
   "source": [
    "Create the experimental sample by providing filenames\n",
    "-----------------------------------------------------"
   ]
  },
  {
   "cell_type": "code",
   "execution_count": null,
   "metadata": {},
   "outputs": [],
   "source": [
    "\n",
    "example = MaP.Sample(sample       = \"Example Data\",\n",
    "                     log          = \"data/example2_shapemapper_log.txt\",\n",
    "                     profile      = \"data/example2_rnasep_profile.txt\",\n",
    "                     rings        = \"data/example2-rnasep.corrs\",\n",
    "                     pairs        = \"data/example2-rnasep-pairmap.txt\",\n",
    "                     dance_prefix = \"data/example2_rnasep\",\n",
    "                     deletions    = \"data/example-rnasep-deletions.txt\",\n",
    "                     fasta        = \"data/RNaseP-noSC.fasta\",\n",
    "                     probs        = \"data/rnasep.dp\",\n",
    "                     ct           = \"data/RNaseP.ct\",\n",
    "                     ss           = \"data/RC_CRYSTAL_STRUCTURE.xrna\",\n",
    "                     pdb          = \"data/3dhsCrystal_PlusLoops.pdb\",\n",
    "                     pdb_kwargs   = {\"chain\":\"A\"}\n",
    "                     )"
   ]
  },
  {
   "cell_type": "markdown",
   "metadata": {},
   "source": [
    "Visualize the data\n",
    "--------------"
   ]
  },
  {
   "cell_type": "code",
   "execution_count": null,
   "metadata": {
    "slideshow": {
     "slide_type": "fragment"
    }
   },
   "outputs": [],
   "source": [
    "example.make_skyline(dance=True);"
   ]
  },
  {
   "cell_type": "code",
   "execution_count": null,
   "metadata": {},
   "outputs": [],
   "source": [
    "example.make_heatmap(structure=\"pdb\", ij=\"deletions\");\n"
   ]
  },
  {
   "cell_type": "code",
   "execution_count": null,
   "metadata": {},
   "outputs": [],
   "source": [
    "example.make_disthist(structure=\"pdb\", ij=\"deletions\", Percentile=0.99)\n"
   ]
  },
  {
   "cell_type": "code",
   "execution_count": null,
   "metadata": {},
   "outputs": [],
   "source": [
    "example.make_circle(ct=\"ct\", profile=\"profile\");"
   ]
  },
  {
   "cell_type": "code",
   "execution_count": null,
   "metadata": {
    "slideshow": {
     "slide_type": "fragment"
    }
   },
   "outputs": [],
   "source": [
    "example.make_ap(ct=\"probs\", ij=\"pairs\", all_pairs=True);"
   ]
  },
  {
   "cell_type": "code",
   "execution_count": null,
   "metadata": {
    "slideshow": {
     "slide_type": "fragment"
    }
   },
   "outputs": [],
   "source": [
    "example.make_ss(ij=\"rings\", nt_color=\"profile\");"
   ]
  },
  {
   "cell_type": "markdown",
   "metadata": {
    "slideshow": {
     "slide_type": "slide"
    }
   },
   "source": [
    "3D molecule interactive plots\n",
    "-----------------------------\n",
    "Controls:\n",
    "* click and drag to rotate\n",
    "* mouse scroll or right click to zoom\n",
    "* 3rd mouse button and drag to pan"
   ]
  },
  {
   "cell_type": "code",
   "execution_count": null,
   "metadata": {
    "slideshow": {
     "slide_type": "fragment"
    },
    "tags": []
   },
   "outputs": [],
   "source": [
    "plot = example.make_mol(ij=\"deletions\", nt_color=\"profile\", Percentile=0.99);"
   ]
  },
  {
   "cell_type": "code",
   "execution_count": null,
   "metadata": {},
   "outputs": [],
   "source": []
  }
 ],
 "metadata": {
  "celltoolbar": "Slideshow",
  "interpreter": {
   "hash": "4b7249f39be8a928512e41dc62465227edd9964f00c75d70c342e9c6959e5a57"
  },
  "kernelspec": {
   "display_name": "Python 3.7.3 ('base')",
   "language": "python",
   "name": "python3"
  },
  "language_info": {
   "codemirror_mode": {
    "name": "ipython",
    "version": 3
   },
   "file_extension": ".py",
   "mimetype": "text/x-python",
   "name": "python",
   "nbconvert_exporter": "python",
   "pygments_lexer": "ipython3",
   "version": "3.7.3"
  }
 },
 "nbformat": 4,
 "nbformat_minor": 4
}
