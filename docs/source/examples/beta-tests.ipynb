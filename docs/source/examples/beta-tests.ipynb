{
 "cells": [
  {
   "cell_type": "markdown",
   "metadata": {},
   "source": [
    "Beta-testing of new figures\n",
    "==========================="
   ]
  },
  {
   "cell_type": "code",
   "execution_count": null,
   "metadata": {},
   "outputs": [],
   "source": [
    "%load_ext autoreload\n",
    "%autoreload 2\n",
    "import starmapper as MaP\n",
    "from starmapper.plots import DistHist\n",
    "import matplotlib.pyplot as plt\n",
    "\n",
    "sample = MaP.Sample(sample=\"sample data\",\n",
    "                    deletions=\"data/example-rnasep-deletions.txt\",\n",
    "                    fasta=\"data/RNaseP-noSC.fasta\",\n",
    "                    pdb=\"data/3dhs_Correct.pdb\",\n",
    "                    pdb_kwargs={'chain':'A'})\n",
    "\n",
    "\n",
    "plot = DistHist(1)\n",
    "sample.filter_ij(\"deletions\", \"pdb\", Percentile=0.9)\n",
    "plot.add_sample(sample, structure=\"pdb\", ij=\"deletions\",\n",
    "                label=\"label\", ax=plot.axes[0,0])\n",
    "\n",
    "sample.filter_ij(\"deletions\", \"pdb\", Percentile=0.95)\n",
    "plot.add_sample(sample, structure=\"pdb\", ij=\"deletions\",\n",
    "                label=\"label\", ax=plot.axes[0,0])\n",
    "\n",
    "sample.filter_ij(\"deletions\", \"pdb\", Percentile=0.98)\n",
    "plot.add_sample(sample, structure=\"pdb\", ij=\"deletions\",\n",
    "                label=\"label\", ax=plot.axes[0, 0])\n",
    "\n",
    "plt.tight_layout()\n"
   ]
  },
  {
   "cell_type": "code",
   "execution_count": null,
   "metadata": {},
   "outputs": [],
   "source": [
    "a = sample.data[\"pdb\"].get_distance_matrix()"
   ]
  },
  {
   "cell_type": "code",
   "execution_count": null,
   "metadata": {},
   "outputs": [],
   "source": [
    "b = sample.data[\"pdb\"].get_distance_matrix_improved()"
   ]
  },
  {
   "cell_type": "code",
   "execution_count": null,
   "metadata": {},
   "outputs": [],
   "source": [
    "x = np.array([x*y for x in range(10) for y in range(10)])\n",
    "x.shape = (10, 10)\n",
    "w = 2\n",
    "i = np.array([[np.arange(n,n+w)]*2 for n in [1,1,3,4]])\n",
    "j = np.array([[np.full(w, n+f) for f in range(w)] for n in [4,5,7,7]])\n",
    "print(x[i,j],\n",
    "      x[i,j].mean(axis=(1,2)),\n",
    "      sep='\\n\\n')"
   ]
  },
  {
   "cell_type": "code",
   "execution_count": null,
   "metadata": {},
   "outputs": [],
   "source": []
  },
  {
   "cell_type": "code",
   "execution_count": null,
   "metadata": {},
   "outputs": [],
   "source": []
  }
 ],
 "metadata": {
  "interpreter": {
   "hash": "4b7249f39be8a928512e41dc62465227edd9964f00c75d70c342e9c6959e5a57"
  },
  "kernelspec": {
   "display_name": "Python 3.7.3 ('base')",
   "language": "python",
   "name": "python3"
  },
  "language_info": {
   "codemirror_mode": {
    "name": "ipython",
    "version": 3
   },
   "file_extension": ".py",
   "mimetype": "text/x-python",
   "name": "python",
   "nbconvert_exporter": "python",
   "pygments_lexer": "ipython3",
   "version": "3.7.3"
  },
  "orig_nbformat": 4
 },
 "nbformat": 4,
 "nbformat_minor": 2
}
