{
 "cells": [
  {
   "cell_type": "markdown",
   "metadata": {},
   "source": [
    "Testing new figures\n",
    "-------------------"
   ]
  },
  {
   "cell_type": "code",
   "execution_count": null,
   "metadata": {},
   "outputs": [],
   "source": [
    "# This sets plots to display in-line by default\n",
    "%matplotlib inline\n",
    "# Import module, for high-level functions, no additional modules are needed\n",
    "import starmapper as MaP\n",
    "import matplotlib.pyplot as plt\n",
    "import numpy as np\n",
    "\n",
    "# Creates an HTML button that hides/shows code cells\n",
    "# Useful for lab notebook reports and research updates\n",
    "# NOTE: this does not display well on GitHub.\n",
    "MaP.create_code_button()"
   ]
  },
  {
   "cell_type": "code",
   "execution_count": null,
   "metadata": {},
   "outputs": [],
   "source": [
    "rnp_sample = MaP.Sample(sample=\"rnp_example\",\n",
    "                        rnp=\"data/RMRP-RNPMaP-Example_RESULTS.csv\",\n",
    "                        profile=\"data/example1_rnasep_profile.txt\",\n",
    "                        rings=\"data/example1-rnasep.corrs\",\n",
    "                        ss=\"data/hs-RMRP.nsd\")\n"
   ]
  },
  {
   "cell_type": "code",
   "execution_count": null,
   "metadata": {},
   "outputs": [],
   "source": [
    "\n",
    "ss = rnp_sample.make_ap(ct=\"ss\", profile=\"rnp\", ij=\"rings\")\n",
    "annotation = MaP.Annotation(name=\"UAC\", motif=\"DAC\", color=\"blue\",\n",
    "                            sequence=rnp_sample.data[\"ss\"].sequence)\n",
    "xvals = np.array(rnp_sample.data[\"ss\"].num)/rnp_sample.data[\"ss\"].length\n",
    "yvals = np.array([int(site) for site in annotation.sites])/2\n",
    "bottoms = np.full(len(yvals), 0.25)\n",
    "ss.axes[0,0].bar(xvals, yvals, 1/rnp_sample.data[\"ss\"].length, linewidth=0,\n",
    "                 alpha=0.5, color=annotation.color, zorder=-5, bottom=0.25,\n",
    "                 transform=ss.axes[0, 0].transAxes);\n",
    "#rnp_sample.make_ap(ct=\"ss\", profile=\"rnp\", ij=\"rings\", annotation=\"DAC\")"
   ]
  },
  {
   "cell_type": "code",
   "execution_count": null,
   "metadata": {},
   "outputs": [],
   "source": [
    "ss = rnp_sample.make_ss(profile=\"rnp\", ij=\"rings\")\n",
    "annotation = MaP.Annotation(name=\"TAC\", motif=\"UAC\", color=\"blue\",\n",
    "                            sequence=rnp_sample.data[\"ss\"].sequence)\n",
    "xvals = rnp_sample.data[\"ss\"].xcoordinates[annotation.sites]\n",
    "yvals = rnp_sample.data[\"ss\"].ycoordinates[annotation.sites]\n",
    "ss.axes[0, 0].scatter(xvals, yvals, s=525, linewidth=0, color=annotation.color, zorder=-5)\n",
    "rnp_sample.make_ss(profile=\"rnp\", ij=\"rings\", motif=\"AUC\")"
   ]
  },
  {
   "cell_type": "code",
   "execution_count": null,
   "metadata": {},
   "outputs": [],
   "source": [
    "path = 'data/'\n",
    "def kwargs(sample):\n",
    "    kwargs = {\"sample\": sample,\n",
    "              \"profile\": path+sample+\"_rnasep_profile.txt\",\n",
    "              \"ct\": path+\"RNaseP.ct\",\n",
    "              \"ss\": path+\"RC_CRYSTAL_STRUCTURE.xrna\",\n",
    "              \"rings\": path+sample+\"-rnasep.corrs\",\n",
    "              \"pairs\": path+sample+\"-rnasep-pairmap.txt\",\n",
    "              \"log\": path+sample+\"_shapemapper_log.txt\",\n",
    "              \"dance_prefix\": path+sample+\"_rnasep\",\n",
    "              \"deletions\": path+\"example-rnasep-deletions.txt\",\n",
    "              \"fasta\": path+\"RNaseP-noSC.fasta\",\n",
    "              \"pdb\": path+\"3dhs_Correct.pdb\",\n",
    "              \"pdb_kwargs\":{\"chain\": \"A\"}}\n",
    "    return kwargs\n",
    "\n",
    "example1 = MaP.Sample(**kwargs(\"example1\"))\n",
    "example2 = MaP.Sample(**kwargs(\"example2\"))\n",
    "example3 = MaP.Sample(**kwargs(\"example3\"))\n",
    "example4 = MaP.Sample(**kwargs(\"example4\"))\n",
    "samples = [example1, example2, example3, example4]"
   ]
  },
  {
   "cell_type": "code",
   "execution_count": null,
   "metadata": {},
   "outputs": [],
   "source": [
    "fig, ax = plt.subplots(2, 4, figsize=(24, 12), sharey=True, sharex=True)\n",
    "for i, sample in enumerate(samples):\n",
    "    sample.data[\"rings\"].set_3d_distances(sample.data[\"pdb\"], \"O2'\")\n",
    "    data = sample.data[\"rings\"].data\n",
    "    data[\"cd\"] = [sample.data[\"ct\"].contactDistance(\n",
    "        i+1, j+1) for _, i, j in data[[\"i\", \"j\"]].itertuples()]\n",
    "    data.sort_values(by=[\"cd\"], inplace=True)\n",
    "    mask = data[\"Sign\"] == 1\n",
    "    im = ax[0, i].scatter(data.loc[mask, \"Statistic\"], data.loc[mask, \"Distance\"],\n",
    "                          c=data.loc[mask, \"cd\"], cmap=\"YlOrRd\", marker='.', vmin=0, vmax=40)\n",
    "    ax[0, i].annotate(sample.sample[:].upper(), (0.7, 0.85),\n",
    "                      xycoords=\"axes fraction\", fontsize=\"x-large\")\n",
    "    ax[1, i].annotate(sample.sample[:].upper(), (0.7, 0.85),\n",
    "                      xycoords=\"axes fraction\", fontsize=\"x-large\")\n",
    "    ax[1, i].scatter(data.loc[~mask, \"Statistic\"], data.loc[~mask, \"Distance\"],\n",
    "                     c=data.loc[~mask, \"cd\"], cmap=\"YlOrRd\", marker='.', vmin=0, vmax=40)\n",
    "ax[0, 0].set(xscale=\"log\", ylim=[0,100])\n",
    "ax[0, 0].set_ylabel(\"Positive correlations\")\n",
    "ax[1, 0].set_ylabel(\"Negative correlations\")\n",
    "plt.tight_layout()\n",
    "\n",
    "fig, ax = plt.subplots(1, figsize=(2, 10))\n",
    "fig.colorbar(im, ax=ax)\n",
    "ax.set_axis_off()\n"
   ]
  },
  {
   "cell_type": "code",
   "execution_count": null,
   "metadata": {},
   "outputs": [],
   "source": []
  }
 ],
 "metadata": {
  "interpreter": {
   "hash": "6c33f2e669c4252adcb6b35df72ed100d5670b3dff543db2a50ccff0137b1beb"
  },
  "kernelspec": {
   "display_name": "Python 3.7.9 64-bit ('base': conda)",
   "name": "python3"
  },
  "language_info": {
   "codemirror_mode": {
    "name": "ipython",
    "version": 3
   },
   "file_extension": ".py",
   "mimetype": "text/x-python",
   "name": "python",
   "nbconvert_exporter": "python",
   "pygments_lexer": "ipython3",
   "version": "3.7.9"
  }
 },
 "nbformat": 4,
 "nbformat_minor": 4
}
