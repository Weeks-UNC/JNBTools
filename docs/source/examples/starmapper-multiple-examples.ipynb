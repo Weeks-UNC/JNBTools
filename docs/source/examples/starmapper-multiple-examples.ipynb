{
 "cells": [
  {
   "cell_type": "markdown",
   "metadata": {},
   "source": [
    "Plotting multiple samples\n",
    "=========================\n",
    "\n",
    "Contents:\n",
    "- [Notebook set-up](#notebook-set-up)\n",
    "- [Initializing MaP sample](#initializing-map-sample)\n",
    "- [ShapeMapper QC](#shapemapper-qc)\n",
    "- [Skyline plots](#skyline-plots)\n",
    "- [Linear Regression](#linear-regression)\n",
    "- [Arc Plots](#arc-plots)\n",
    "- [Secondary Structure](#secondary-structure)\n",
    "- [3D Structures](#3d-structures)"
   ]
  },
  {
   "cell_type": "markdown",
   "metadata": {},
   "source": [
    "Notebook set-up\n",
    "---------------"
   ]
  },
  {
   "cell_type": "code",
   "execution_count": null,
   "metadata": {},
   "outputs": [],
   "source": [
    "# This sets plots to display in-line by default\n",
    "%matplotlib inline\n",
    "\n",
    "# Import module. For high-level functions, no additional modules are needed\n",
    "import starmapper as MaP\n",
    "\n",
    "# Creates an HTML button that hides/shows code cells\n",
    "# Useful for lab notebook reports and research updates\n",
    "# Note: This works in html and jupyter notebooks\n",
    "#   but not github markdown (where you are likely looking.)\n",
    "MaP.create_code_button()"
   ]
  },
  {
   "cell_type": "markdown",
   "metadata": {},
   "source": [
    "Initializing MaP sample\n",
    "-----------------------\n",
    "If you have consistently named files, you can use a function to create a list of samples quickly."
   ]
  },
  {
   "cell_type": "code",
   "execution_count": null,
   "metadata": {},
   "outputs": [],
   "source": [
    "path = 'data/'\n",
    "def init_sample(sample):\n",
    "    return MaP.Sample(sample       = sample,                              # Sample name, this will appear in labels and legends.\n",
    "                      profile      = path+sample+\"_rnasep_profile.txt\",   # ShapeMapper2 profile.txt\n",
    "                      ct           = path+\"RNaseP.ct\",                    # base-pairing information in ct format, this may be redundant if a secondary structure file is provided.\n",
    "                      ss           = path+\"RC_CRYSTAL_STRUCTURE.xrna\",    # secondary structure drawing in xrna, varna, cte, or nsd format\n",
    "                      rings        = path+sample+\"-rnasep.corrs\",         # RingMapper output (extension specified by user)\n",
    "                      pairs        = path+sample+\"-rnasep-pairmap.txt\",   # PairMapper output (pairmapper.txt)\n",
    "                      # allcorrs = PairMapper allcorrs.txt file, not included in this example\n",
    "                      log          = path+sample+\"_shapemapper_log.txt\",  # ShapeMapper2 log file contains fragment length and mutations-per-molecule distributions\n",
    "                                                                          # but only if --per-read-histograms flag is used\n",
    "                      dance_prefix = path+sample+\"_rnasep\",               # prefix for DanceMapper files, will detect rings, pairs, profiles, and predicted structures if present.\n",
    "                      deletions    = path+\"example-rnasep-deletions.txt\", # ShapeJumper deletions.txt file\n",
    "                      fasta        = path+\"RNaseP-noSC.fasta\",            # Fasta file used for ShapeJumper (required if deletions are provided)\n",
    "                      pdb          = path+\"3dhs_Correct.pdb\",             # a 3-D molecular structure in PDB format, support for cif and pdbx files forthcoming.\n",
    "                      pdb_kwargs   = {\"chain\":\"A\"})                       # Additional info for PDB parsing. Chain is required.\n",
    "                                                                          # offset and fasta may be required if the PDB header is incomplete.\n",
    "\n",
    "example1 = init_sample(\"example1\")\n",
    "example2 = init_sample(\"example2\")\n",
    "example3 = init_sample(\"example3\")\n",
    "example4 = init_sample(\"example4\")\n",
    "\n",
    "samples = [example1, example2, example3, example4]"
   ]
  },
  {
   "cell_type": "markdown",
   "metadata": {},
   "source": [
    "ShapeMapper QC\n",
    "--------------"
   ]
  },
  {
   "cell_type": "code",
   "execution_count": null,
   "metadata": {},
   "outputs": [],
   "source": [
    "MaP.array_qc(samples);"
   ]
  },
  {
   "cell_type": "markdown",
   "metadata": {},
   "source": [
    "Skyline Plots\n",
    "-------------"
   ]
  },
  {
   "cell_type": "code",
   "execution_count": null,
   "metadata": {},
   "outputs": [],
   "source": [
    "MaP.array_skyline(samples);"
   ]
  },
  {
   "cell_type": "markdown",
   "metadata": {},
   "source": [
    "Linear Regression\n",
    "-----------------"
   ]
  },
  {
   "cell_type": "code",
   "execution_count": null,
   "metadata": {},
   "outputs": [],
   "source": [
    "MaP.array_linreg(samples, colorby=\"sequence\");"
   ]
  },
  {
   "cell_type": "markdown",
   "metadata": {},
   "source": [
    "Arc Plots\n",
    "---------"
   ]
  },
  {
   "cell_type": "code",
   "execution_count": null,
   "metadata": {},
   "outputs": [],
   "source": [
    "MaP.array_ap(samples, ij=\"rings\");"
   ]
  },
  {
   "cell_type": "markdown",
   "metadata": {},
   "source": [
    "Secondary Structure\n",
    "-------------------"
   ]
  },
  {
   "cell_type": "code",
   "execution_count": null,
   "metadata": {},
   "outputs": [],
   "source": [
    "MaP.array_ss(samples, ij=\"rings\", colors=\"profile\");"
   ]
  },
  {
   "cell_type": "markdown",
   "metadata": {},
   "source": [
    "## 3D structures"
   ]
  },
  {
   "cell_type": "code",
   "execution_count": null,
   "metadata": {},
   "outputs": [],
   "source": [
    "MaP.array_mol(samples, ij=\"pairs\", nt_color=\"profile\");"
   ]
  }
 ],
 "metadata": {
  "interpreter": {
   "hash": "2017aa22b7605e6566dc9a85d688c7bca09d0760b5e258e83d5f0909331db6a8"
  },
  "kernelspec": {
   "display_name": "Python 3.7.9 ('base')",
   "language": "python",
   "name": "python3"
  },
  "language_info": {
   "codemirror_mode": {
    "name": "ipython",
    "version": 3
   },
   "file_extension": ".py",
   "mimetype": "text/x-python",
   "name": "python",
   "nbconvert_exporter": "python",
   "pygments_lexer": "ipython3",
   "version": "3.7.9"
  }
 },
 "nbformat": 4,
 "nbformat_minor": 4
}
