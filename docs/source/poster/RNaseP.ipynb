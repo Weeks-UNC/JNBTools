{
 "cells": [
  {
   "cell_type": "markdown",
   "metadata": {},
   "source": [
    "# Recreation of RNaseP time-resolved probing\n",
    "\n",
    "## Import StarMapper"
   ]
  },
  {
   "cell_type": "code",
   "execution_count": null,
   "metadata": {},
   "outputs": [],
   "source": [
    "import starmapper as MaP"
   ]
  },
  {
   "cell_type": "markdown",
   "metadata": {},
   "source": [
    "## Load data"
   ]
  },
  {
   "cell_type": "code",
   "execution_count": null,
   "metadata": {},
   "outputs": [],
   "source": [
    "common_data = {\"ss\":\"RC_CRYSTAL_STRUCTURE.xrna\",\n",
    "               \"pdb\":\"3dhsCrystal_PlusLoops.pdb\",\n",
    "               \"pdb_kwargs\":{\"chain\":\"A\"}}\n",
    "rc0 = MaP.Sample(sample=\"No Mg++\",\n",
    "                 profile=\"RC0_rnasep_profile.txt\",\n",
    "                 rings=\"RC0_rnasep_rings.txt\",\n",
    "                 **common_data)\n",
    "rc30 = MaP.Sample(sample=\"30 Seconds\",\n",
    "                  profile=\"RC30_rnasep_profile.txt\",\n",
    "                  rings=\"RC30_rnasep_rings.txt\",\n",
    "                  **common_data)\n",
    "rc1200 = MaP.Sample(sample=\"Fully folded\",\n",
    "                    profile=\"RC1200_rnasep_profile.txt\",\n",
    "                    rings=\"RC1200_rnasep_rings.txt\",\n",
    "                    **common_data)"
   ]
  },
  {
   "cell_type": "markdown",
   "metadata": {},
   "source": [
    "## Create custom colors and regions"
   ]
  },
  {
   "cell_type": "code",
   "execution_count": null,
   "metadata": {},
   "outputs": [],
   "source": [
    "c_list = MaP.get_color_list(length = rc0.data[\"ss\"].length, default = \"lightgrey\",\n",
    "            color_regions = {\"DarkOrchid\":[(236, 240), (181, 188), (45, 47), (49,49), (127,128)],\n",
    "                             \"DodgerBlue\":[(189, 195), (15, 21)],\n",
    "                             \"orange\":[(58, 62),(101, 105)],\n",
    "                             \"red\": [(70, 75), (141, 146)]})\n",
    "\n",
    "regions = [((225,250), (80,110)), ((225,255), (180,210)), ((135,150), (65,90)),\n",
    "           ((60,145), (10, 30))]"
   ]
  },
  {
   "cell_type": "markdown",
   "metadata": {},
   "source": [
    "## Plot time-resolved RINGs"
   ]
  },
  {
   "cell_type": "code",
   "execution_count": null,
   "metadata": {},
   "outputs": [],
   "source": [
    "MaP.array_ss([rc0, rc30, rc1200], ij=\"rings\", Statistic_ge=500,\n",
    "             min_max=[500,550], positive_only=True, cmap=\"green\",\n",
    "             colors=c_list, apply_color_to=\"background\", colorbar=False)"
   ]
  },
  {
   "cell_type": "markdown",
   "metadata": {},
   "source": [
    "## Plot detailed structure with sequence."
   ]
  },
  {
   "cell_type": "code",
   "execution_count": null,
   "metadata": {},
   "outputs": [],
   "source": [
    "rc0.make_ss(colors=c_list, apply_color_to=\"sequence\")"
   ]
  },
  {
   "cell_type": "markdown",
   "metadata": {},
   "source": [
    "## Plot time-resolved heatmaps with regions of interest"
   ]
  },
  {
   "cell_type": "code",
   "execution_count": null,
   "metadata": {},
   "outputs": [],
   "source": [
    "MaP.array_heatmap([rc0, rc30, rc1200], \"ss\", \"rings\", regions=regions,\n",
    "                  cmap=[\"white\", \"green\"], positive_only=True, min_max=[0,100])"
   ]
  },
  {
   "cell_type": "markdown",
   "metadata": {},
   "source": [
    "## Plot fully folded RINGs on 3D structure"
   ]
  },
  {
   "cell_type": "code",
   "execution_count": null,
   "metadata": {},
   "outputs": [],
   "source": [
    "rc1200.make_mol(ij=\"rings\", Statistic=500, positive_only=True, cmap=\"green\",\n",
    "                nt_color=c_list)"
   ]
  }
 ],
 "metadata": {
  "interpreter": {
   "hash": "4b7249f39be8a928512e41dc62465227edd9964f00c75d70c342e9c6959e5a57"
  },
  "kernelspec": {
   "display_name": "Python 3.7.3 ('base')",
   "language": "python",
   "name": "python3"
  },
  "language_info": {
   "codemirror_mode": {
    "name": "ipython",
    "version": 3
   },
   "file_extension": ".py",
   "mimetype": "text/x-python",
   "name": "python",
   "nbconvert_exporter": "python",
   "pygments_lexer": "ipython3",
   "version": "3.7.3"
  },
  "orig_nbformat": 4
 },
 "nbformat": 4,
 "nbformat_minor": 2
}
