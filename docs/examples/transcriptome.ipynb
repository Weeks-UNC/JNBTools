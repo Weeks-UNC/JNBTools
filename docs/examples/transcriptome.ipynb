{
 "cells": [
  {
   "cell_type": "code",
   "execution_count": null,
   "metadata": {},
   "outputs": [],
   "source": [
    "import rnavigate as rnav\n",
    "import pandas as pd\n"
   ]
  },
  {
   "cell_type": "code",
   "execution_count": null,
   "metadata": {},
   "outputs": [],
   "source": [
    "RMRP = rnav.Sample(\n",
    "    sample='RMRP',\n",
    "    ss_ct={'ss': 'data/rmrp/hs-RMRP.nsd'},\n",
    "    domains={\n",
    "        'domains': [[1, 40], [41, 179], [180, 268]],\n",
    "        'names': [\"5'-UTR\", \"CDS\", \"3'-UTR\"],\n",
    "        'colors': ['red', 'white', 'green'],\n",
    "        'sequence': 'ss_ct',\n",
    "        },\n",
    ")\n",
    "from data.rnasep.samples import example1, example2, example3, example4\n",
    "samples=[example1, example2, example3, example4]\n",
    "for example in samples:\n",
    "    example.set_data(\n",
    "        \"domains\",\n",
    "        {\n",
    "            'domains': [[1, 14], [15, 71], [72, 205], [206, 282], [283, 325]],\n",
    "            'names': [\"5'SC\", \"Catalytic\", \"Specificity\", \"Catalytic\", \"3'SC\"],\n",
    "            'colors': ['white']*5,\n",
    "            'sequence': 'ss_ct',\n",
    "        },\n",
    "        overwrite_keyword=True\n",
    "        )\n",
    "    example.set_data(\n",
    "        \"spans\", {\n",
    "            'spans': [[1, 14], [85, 120], [283, 325]],\n",
    "            'name': \"spans\",\n",
    "            'color': 'red',\n",
    "            'sequence': 'ss_ct'\n",
    "            })\n",
    "    example.set_data(\n",
    "        \"sites\", {\n",
    "            'sites': [14, 71, 205, 282, 310],\n",
    "            'name': \"sites\",\n",
    "            'color': 'blue',\n",
    "            'sequence': 'ss_ct'\n",
    "            })\n",
    "    example.set_data(\n",
    "        \"primers\", {\n",
    "            'primers': [[1, 14], [325, 305]],\n",
    "            'name': \"primers\",\n",
    "            'color': 'black',\n",
    "            'sequence': 'ss_ct'\n",
    "            })\n",
    "    example.set_data(\n",
    "        \"group\", {\n",
    "            'group': [60, 62, 65, 79, 82],\n",
    "            'name': \"group\",\n",
    "            'color': 'red',\n",
    "            'sequence': 'ss_ct'\n",
    "            })\n"
   ]
  },
  {
   "cell_type": "code",
   "execution_count": null,
   "metadata": {},
   "outputs": [],
   "source": [
    "# eclip = rnav.data.eCLIP_Database()\n",
    "# GRCh38 = rnav.data.Transcriptome(\n",
    "#     genome='GCF_000001405.26_GRCh38_genomic.fna',\n",
    "#     annotation='MANE.GRCh38.v1.0.ensembl_genomic.gtf'\n",
    "# )\n",
    "# SERPINA1 = GRCh38.get_transcript(\"ENST00000393087.9\")\n",
    "# test = rnav.Sample(\n",
    "#     sample='SERPINA1 mRNA',\n",
    "#     SERPINA1=SERPINA1,\n",
    "#     eCLIP=eclip.get_eclip_density(SERPINA1, 'HepG2'),\n",
    "#     cds=SERPINA1.get_cds_annotation(color='red'),\n",
    "#     junctions=SERPINA1.get_junctions_annotation(color='black'),\n",
    "#     exon3=SERPINA1.get_exon_annotation(3))\n",
    "# plot = rnav.plot_profile(\n",
    "#     [test],\n",
    "#     sequence='SERPINA1',\n",
    "#     profile='eCLIP',\n",
    "#     annotations=['cds', 'junctions'],\n",
    "#     region=[1, 400])\n"
   ]
  },
  {
   "cell_type": "code",
   "execution_count": null,
   "metadata": {},
   "outputs": [],
   "source": [
    "plot = rnav.plot_circle(\n",
    "    [RMRP],\n",
    "    sequence='ss_ct',\n",
    "    structure='ss_ct',)\n"
   ]
  },
  {
   "cell_type": "code",
   "execution_count": null,
   "metadata": {},
   "outputs": [],
   "source": []
  }
 ],
 "metadata": {
  "kernelspec": {
   "display_name": "RNAvigate",
   "language": "python",
   "name": "python3"
  },
  "language_info": {
   "codemirror_mode": {
    "name": "ipython",
    "version": 3
   },
   "file_extension": ".py",
   "mimetype": "text/x-python",
   "name": "python",
   "nbconvert_exporter": "python",
   "pygments_lexer": "ipython3",
   "version": "3.9.2"
  },
  "orig_nbformat": 4
 },
 "nbformat": 4,
 "nbformat_minor": 2
}
