{
 "cells": [
  {
   "cell_type": "markdown",
   "metadata": {},
   "source": [
    "Arc Plot options\n",
    "===================\n",
    "This Notebook is to show and test the various features of arc plots with\n",
    "RNAvigate. The experimental data is unimportant here.\n",
    "\n",
    "Current limitations\n",
    "-------------------\n",
    "* No known issues"
   ]
  },
  {
   "cell_type": "markdown",
   "metadata": {},
   "source": [
    "Notebook set-up\n",
    "---------------"
   ]
  },
  {
   "cell_type": "code",
   "execution_count": 1,
   "metadata": {},
   "outputs": [],
   "source": [
    "%load_ext autoreload\n",
    "%autoreload 2\n"
   ]
  },
  {
   "cell_type": "code",
   "execution_count": 2,
   "metadata": {},
   "outputs": [],
   "source": [
    "import rnavigate as MaP\n",
    "import matplotlib.pyplot as plt\n",
    "plt.close('all')"
   ]
  },
  {
   "cell_type": "markdown",
   "metadata": {},
   "source": [
    "Initializing MaP sample\n",
    "-----------------------\n",
    "If you have consistently named files, (which you should), you can use a function to create a dictionary of keyword arguments (kwargs). Then, \"unpack\" the dictionary using the double asterisk."
   ]
  },
  {
   "cell_type": "code",
   "execution_count": null,
   "metadata": {},
   "outputs": [],
   "source": [
    "path = 'data/'\n",
    "\n",
    "\n",
    "def return_sample(sample):\n",
    "    return MaP.Sample(sample=sample,\n",
    "                      shapemap =      path+sample+\"_rnasep_profile.txt\",\n",
    "                      ct =           path+\"RNaseP.ct\",\n",
    "                      ss = \"data/RC_CRYSTAL_STRUCTURE.xrna\",\n",
    "                      ringmap =        path+sample+\"-rnasep.corrs\",\n",
    "                      pairmap =        path+sample+\"-rnasep-pairmap.txt\",\n",
    "                      pairprob =        path+\"rnasep.dp\",\n",
    "                      dance_prefix = path+sample+\"_rnasep\",\n",
    "                      shapejump =    path+\"example-rnasep-deletions.txt\",\n",
    "                      fasta =        path+\"RNaseP-noSC.fasta\",\n",
    "                      pdb =          path+\"3dhs_Correct.pdb\",\n",
    "                      pdb_kwargs =   {\"chain\":\"A\"})\n",
    "\n",
    "\n",
    "example1 = return_sample(\"example1\")\n",
    "example2 = return_sample(\"example2\")\n",
    "example3 = return_sample(\"example3\")\n",
    "example4 = return_sample(\"example4\")"
   ]
  },
  {
   "cell_type": "code",
   "execution_count": null,
   "metadata": {},
   "outputs": [],
   "source": [
    "# example1.set_data(name=\"DRACH\",\n",
    "#                   filepath=None,\n",
    "#                   instantiator=MaP.data.Annotation,\n",
    "#                   seq_source=\"ct\",\n",
    "#                   kwargs={\"motif\": \"DRACH\", \"color\": \"blue\"},\n",
    "#                   overwrite=True)\n",
    "# plot = example1.make_ss(annotations=[\"DRACH\"],\n",
    "#                         positions=True, colors=\"black\", apply_color_to=\"sequence\",\n",
    "#                         )\n",
    "\n",
    "example1.set_data(name=\"fpocket\",\n",
    "                  filepath=None,\n",
    "                  instantiator=MaP.data.Annotation,\n",
    "                  seq_source=\"ss\",\n",
    "                  kwargs={\"groups\": [{\"sites\": [122, 123, 142, 143], \"color\": \"red\"},\n",
    "                                     {\"sites\": [72, 73, 74, 142, 143, 144], \"color\": \"green\"}]},\n",
    "                  overwrite=True)\n",
    "plot = example1.make_ss(annotations=[\"fpocket\"],\n",
    "                        positions=True, colors=\"black\", apply_color_to=\"sequence\",\n",
    "                        )\n",
    "\n",
    "# example1.set_data(name=\"t_sites\",\n",
    "#                   filepath=None,\n",
    "#                   instantiator=MaP.data.Annotation,\n",
    "#                   seq_source=\"ct\",\n",
    "#                   kwargs={\"site_list\": [125, 250]},\n",
    "#                   overwrite=True)\n",
    "# plot = example1.make_ss(annotations=[\"t_sites\"],\n",
    "#                         positions=True, colors=\"black\", apply_color_to=\"sequence\",\n",
    "#                         )\n",
    "# def get_shortest_path(old_xs, old_ys):\n",
    "#     from math import dist\n",
    "#     xs = [old_xs.pop(0)]\n",
    "#     ys = [old_ys.pop(0)]\n",
    "#     new_dists = []\n",
    "#     while len(old_xs)+len(old_ys) > 0:\n",
    "#         x1 = xs[-1]\n",
    "#         y1 = ys[-1]\n",
    "#         dists = []\n",
    "#         for x2, y2 in zip(old_xs, old_ys):\n",
    "#             dists.append(dist([x1, y1], [x2, y2]))\n",
    "#         i = dists.index(min(dists))\n",
    "#         new_dists.append(min(dists))\n",
    "#         xs.append(old_xs.pop(i))\n",
    "#         ys.append(old_ys.pop(i))\n",
    "#     new_dists = [dist([xs[0], ys[0]], [xs[-1], ys[-1]])] + new_dists\n",
    "#     i = new_dists.index(max(new_dists))\n",
    "#     print(i, new_dists, xs, ys)\n",
    "#     xs = xs[i:] + xs[:i]\n",
    "#     ys = ys[i:] + ys[:i]\n",
    "#     return xs, ys\n",
    "# x = [1, 2, 3, 1]\n",
    "# y = [0, 2, 1, 1]\n",
    "# plt.plot(x, y)\n",
    "# x, y= get_shortest_path(x, y)\n",
    "# plt.plot(x, y)"
   ]
  },
  {
   "cell_type": "code",
   "execution_count": null,
   "metadata": {},
   "outputs": [],
   "source": [
    "example1.make_ap_multifilter([{\"ij\":\"rings\", \"cdBelow\":30, \"profBelow\":2},\n",
    "                             {\"ij\":\"rings\", \"metric\":\"Zij\", \"Zij\":2, \"Sign\":0},\n",
    "                             {\"ij\":\"pairs\", \"all_pairs\":True},\n",
    "                             {\"ij\":\"deletions\", \"metric\":\"Distance\", \"Percentile\":0.98, \"ds_only\":True}])"
   ]
  },
  {
   "cell_type": "code",
   "execution_count": null,
   "metadata": {},
   "outputs": [],
   "source": [
    "MaP.array_ap([example1, example2, example3, example4], ij=\"pairs\", metric=\"Distance\")"
   ]
  },
  {
   "cell_type": "code",
   "execution_count": null,
   "metadata": {},
   "outputs": [],
   "source": []
  }
 ],
 "metadata": {
  "kernelspec": {
   "display_name": "Python 3.9.2 ('RNAvigate')",
   "language": "python",
   "name": "python3"
  },
  "language_info": {
   "codemirror_mode": {
    "name": "ipython",
    "version": 3
   },
   "file_extension": ".py",
   "mimetype": "text/x-python",
   "name": "python",
   "nbconvert_exporter": "python",
   "pygments_lexer": "ipython3",
   "version": "3.9.2"
  },
  "vscode": {
   "interpreter": {
    "hash": "19f27ef284f8178f6a35b81171d95ddc9680e0c4e2787a48dff0b2c1ba5cea0a"
   }
  }
 },
 "nbformat": 4,
 "nbformat_minor": 4
}
