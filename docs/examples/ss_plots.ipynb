{
 "cells": [
  {
   "cell_type": "markdown",
   "metadata": {},
   "source": [
    "Secondary structure drawing styles\n",
    "==================================\n",
    "\n",
    "Here I will explain the styles available to plot secondary structure drawings.\n",
    "The function syntax is likely to stay the same, but the appearance of plots may\n",
    "change in the future.\n",
    "\n",
    "For an explaination of the plotting API, see \"Plotting API\" page.\n",
    "\n",
    "For brevity, I will refer to secondary structure drawings as \"ss plots\"."
   ]
  },
  {
   "cell_type": "code",
   "execution_count": null,
   "metadata": {},
   "outputs": [],
   "source": [
    "import rnavigate as rnav\n",
    "from data.tpp.samples import example1 as example"
   ]
  },
  {
   "cell_type": "markdown",
   "metadata": {},
   "source": [
    "Nucleotide coloring options\n",
    "---------------------------\n",
    "\n",
    "There are three built-in coloring schemes for ss plots. These are specified\n",
    "using the `colors=` option.\n",
    "\n",
    "\"sequence\" (default)\n",
    "\n",
    "* A: dark blue\n",
    "* U: light blue\n",
    "* G: dark red\n",
    "* C: light red\n",
    "\n",
    "\"profile\"\n",
    "\n",
    "* High reactivity: red\n",
    "* Medium reactivity: yellow/orange\n",
    "* Low reactivity: black\n",
    "* Masked or negative: grey\n",
    "\n",
    "\"position\"\n",
    "\n",
    "* Rainbow gradient from:\n",
    "* first nucleotide: violet\n",
    "* last nucleotide: red\n",
    "\n",
    "\"structure\"\n",
    "\n",
    "* base-paired: blue\n",
    "* single-stranded: orange\n",
    "\n",
    "We can also apply custom colors with the `colors` option. Either a single valid\n",
    "matplotlib color, or a list of matplotlib colors. Here's the matplotlib tutorial for\n",
    "[specifying colors](https://matplotlib.org/stable/tutorials/colors/colors.html).\n",
    "We also have the function `get_colors_list` to make coloring regions a little easier.\n",
    "\n",
    "Nucleotide coloring styles\n",
    "--------------------------\n",
    "\n",
    "In addition to specifying the colors used to display the secondary structure,\n",
    "you can specify which part of the plot to apply these colors to using the\n",
    "`apply_color_to=` option. There are currently three styles to choose from:\n",
    "\n",
    "\"background\" (default)\n",
    "\n",
    "* Closed circles are colored and connected by a grey backbone.\n",
    "\n",
    "\"sequence\"\n",
    "\n",
    "* Sequence letters are colored and connected by a grey backbone.\n",
    "\n",
    "\"structure\"\n",
    "\n",
    "* The backbone line is colored according to the nearest nucleotide position.\n",
    "\n",
    "These styles are access via the `apply_color_to=` option.\n",
    "\n",
    "In the plot below, the title is set to the syntax for the example.make_ss() API.\n",
    "You can use the same options with example.make_ss_multifilter() and MaP.array_ss()"
   ]
  },
  {
   "cell_type": "code",
   "execution_count": null,
   "metadata": {},
   "outputs": [],
   "source": [
    "import matplotlib.pyplot as plt\n",
    "import matplotlib.colors as mpc\n",
    "import numpy as np\n",
    "cmap = plt.get_cmap('viridis')\n",
    "custom_colors = cmap(np.random.default_rng().random(example.data['ss'].length))\n",
    "custom_colors = np.array([mpc.rgb2hex(rgb) for rgb in custom_colors])\n",
    "\n",
    "\n",
    "plot = rnav.plots.SS(num_samples=15, rows=5, cols=3)\n",
    "kwargs = {\"structure\": example.data['ss'],\n",
    "          \"interactions\": None,\n",
    "          \"interactions2\": None,\n",
    "          \"profile\": example.data[\"profile\"],\n",
    "          \"annotations\":[]}\n",
    "colors = [\"sequence\", \"profile\", \"position\", \"structure\", custom_colors]\n",
    "apply_color_tos = [\"background\", \"sequence\", \"structure\"]\n",
    "for c in colors:\n",
    "    for act in apply_color_tos:\n",
    "        if c is custom_colors:\n",
    "            label = f'colors=custom_colors,\\napply_color_to=\"{act}\"'\n",
    "        else:\n",
    "            label = f'colors=\"{c}\",\\napply_color_to=\"{act}\"'\n",
    "        plot.plot_data(colors=c, apply_color_to=act, label=label, **kwargs)\n",
    "plot.set_figure_size()"
   ]
  },
  {
   "cell_type": "code",
   "execution_count": null,
   "metadata": {},
   "outputs": [],
   "source": []
  }
 ],
 "metadata": {
  "kernelspec": {
   "display_name": "Python 3.9.2 ('RNAvigate')",
   "language": "python",
   "name": "python3"
  },
  "language_info": {
   "codemirror_mode": {
    "name": "ipython",
    "version": 3
   },
   "file_extension": ".py",
   "mimetype": "text/x-python",
   "name": "python",
   "nbconvert_exporter": "python",
   "pygments_lexer": "ipython3",
   "version": "3.9.2"
  },
  "vscode": {
   "interpreter": {
    "hash": "9bc5b7d6fb91a4aeee0c6c593c16f1676dc0f90feb6b649cbd0762bccce1fa5e"
   }
  }
 },
 "nbformat": 4,
 "nbformat_minor": 4
}
