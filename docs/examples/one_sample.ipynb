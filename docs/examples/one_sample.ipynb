{
 "cells": [
  {
   "cell_type": "markdown",
   "metadata": {
    "slideshow": {
     "slide_type": "slide"
    }
   },
   "source": [
    "Simple plotting tutorial\n",
    "========================\n",
    "\n",
    "Note: Images get shrunken and don't display well on readthedocs. You can open\n",
    "the full-resolution version by right clicking and selecting \"open image in new\n",
    "tab\".\n",
    "\n",
    "Welcome to the RNAvigate tutorials. Here I will demonstrate and explain some\n",
    "of the functionality of RNAvigate. In this Jupyter Notebook example, we'll\n",
    "explore:\n",
    "\n",
    "* [Importing RNAvigate](#importing-rnavigate)\n",
    "* [Loading data](#loading-data)\n",
    "* [Using plotting functions](#using-plotting-functions)\n",
    "  * [ShapeMapper2 QC Plot](#quality-control-plot)\n",
    "  * [Classic ShapeMapper2 Profiles](#shapemapper2-plots)\n",
    "  * [Skyline (Step) Plots](#skyline-plots)\n",
    "  * [Arc Plots](#arc-plots)\n",
    "  * [Circle Plots](#circle-plot)\n",
    "  * [Secondary Structure Diagrams](#secondary-structure-diagrams)\n",
    "  * [Interactive 3D Molecules](#3d-molecule-interactive-plots)\n",
    "  * [Heatmaps and Contour Plots](#heatmap-and-contour-plot)\n",
    "  * [Distance Histograms](#distance-histograms)"
   ]
  },
  {
   "cell_type": "markdown",
   "metadata": {},
   "source": [
    "Importing RNAvigate\n",
    "-------------------\n",
    "\n",
    "This section is very simple. We tell Jupyter that we need access to the\n",
    "rnavigate code, and give it an alias `rnav` with `import rnavigate as rnav`."
   ]
  },
  {
   "cell_type": "code",
   "execution_count": null,
   "metadata": {},
   "outputs": [],
   "source": [
    "import rnavigate as rnav\n",
    "from data.rnasep.samples import example1 as example"
   ]
  },
  {
   "cell_type": "markdown",
   "metadata": {
    "slideshow": {
     "slide_type": "slide"
    }
   },
   "source": [
    "Loading data\n",
    "------------\n",
    "\n",
    "RNAvigate is built around the `Sample` object, which defines the datasets\n",
    "that are associated to a particular experimental sample. The first step to\n",
    "quickly performing vizualization and analysis is to create a `Sample` object.\n",
    "All of the parameters are optional. Here is a breif explanation of each:\n",
    "\n",
    "In the example below, we have already performed SHAPE-MaP, RING-MaP, PAIR-MaP, RNAstructure partition and ProbabilityPlot."
   ]
  },
  {
   "cell_type": "markdown",
   "metadata": {},
   "source": [
    "### Quality control plot\n",
    "\n",
    "This plot only applies to `log` and `shapemap`, and so it accepts no options.\n",
    "\n",
    "This plot renders three panels:\n",
    "\n",
    "1) Mutations per molecule: this rightward shift of the blue line (Modified)\n",
    "  tells us that there is sufficient mutation rate above background. The blue\n",
    "  line is centered at about 4.5, which is sufficient but slightly low for\n",
    "  correlations and deconvolution (RING-MaP, PAIR-MaP, DANCE-MaP). This number\n",
    "  will shift based on the length of the reads, the reactivity of the probe, and\n",
    "  the degree of base-pairing or rigidness of the RNA structure.\n",
    "2) Read lengths: Both blue and orange bars contain the expected read length for\n",
    "  our amplicon with few shorter fragments, which are likely the result of sequencing\n",
    "  quality dips that prevent R1 and R2 merging. Fragmented data sets will have a\n",
    "  broader distribution.\n",
    "3) Per-nucleotide mutation rate distribution: This split violin chart shows that\n",
    "  the Untreated sample's per-nucleotide mutation rate is clustered tightly near\n",
    "  zero. In contrast the Modified sample has mutation rates approaching 15%."
   ]
  },
  {
   "cell_type": "code",
   "execution_count": null,
   "metadata": {
    "slideshow": {
     "slide_type": "fragment"
    }
   },
   "outputs": [],
   "source": [
    "plot = rnav.plot_qc([example])"
   ]
  },
  {
   "cell_type": "markdown",
   "metadata": {},
   "source": [
    "### ShapeMapper2 plots\n",
    "\n",
    "Next we'll want to take a look at our profile information more in-depth. The standard ShapeMapper2 plots give us a lot of insight.\n",
    "\n",
    "1) The first panel gives us a basic view of where the RNA is most reactive. The pattern below is indicative of a rigid and highly base-paired RNA.\n",
    "2) The second panel gives us raw mutation rates for the untreated and modified RNA samples. Here we see a large signal over background.\n",
    "3) The third panel tells us how many reads we collected for this RNA. Here we have 800,000 reads evenly covering the entire RNA. This will be sufficient for correlation and deconvolution."
   ]
  },
  {
   "cell_type": "code",
   "execution_count": null,
   "metadata": {},
   "outputs": [],
   "source": [
    "plot = rnav.plot_shapemapper(example)"
   ]
  },
  {
   "cell_type": "markdown",
   "metadata": {},
   "source": [
    "### Skyline plots\n",
    "\n",
    "Another way to view this info quickly and more flexibly is the skyline plot,\n",
    "also called a step plot. With these, you can view any per-nucleotide\n",
    "information. These plots are most useful for comparing multiple columns or\n",
    "samples. Below I show how we can show the same data from the middle plot\n",
    "above using skyline."
   ]
  },
  {
   "cell_type": "code",
   "execution_count": null,
   "metadata": {},
   "outputs": [],
   "source": [
    "plot = rnav.plot_skyline(\n",
    "    [example],\n",
    "    columns=[\"Untreated_rate\", \"Modified_rate\"])"
   ]
  },
  {
   "cell_type": "markdown",
   "metadata": {},
   "source": [
    "### Arc plots\n",
    "\n",
    "Arc plots are a very flexible way to visualize multiple layers of information.\n",
    "One useful way to assess a structure is to plot the MFE over the pairing\n",
    "probabilities. MFEs provide a simple view of what the structure might look\n",
    "like, but pairing probabilities reveal uncertainty and nuance in the MFE\n",
    "prediction.\n",
    "\n",
    "By default, `plot_arcs`  shows the `\"ct\"` and `\"profile\"` information.\n",
    "Equivalent to calling:\n",
    "\n",
    "```python\n",
    "example.plot_arcs(ct=\"ct\", profile=\"profile\")\n",
    "```\n",
    "\n",
    "The `ct` structure is shown on top, and the `profile` on the middle track.\n",
    "I'll add `interactions=\"pairprob\"` to plot my pairing probabilities on bottom.\n",
    "`interactions` can be any data which links two nucleotides, including\n",
    "correlations ('ringmap', 'pairmap', 'allcorrs'), SHAPE-JuMP data ('shapejump'),\n",
    "pairing-probabilities ('pairprob'), or base-pairing ('ct', 'compct', or 'ss')."
   ]
  },
  {
   "cell_type": "code",
   "execution_count": null,
   "metadata": {},
   "outputs": [],
   "source": [
    "plot = rnav.plot_arcs(\n",
    "    [example],\n",
    "    interactions=\"pairprob\")"
   ]
  },
  {
   "cell_type": "markdown",
   "metadata": {},
   "source": [
    "In earlier plots, I determined that these data should produce good\n",
    "correlations. I'll take a look at my `ringmap` data here. These data are often\n",
    "so we will apply some filters by passing them to `interactions_filter`.\n",
    "\n",
    "`\"positive_only\": True` removes negative correlations. These can be hard to\n",
    "interpret.\n",
    "\n",
    "`\"Statistic_ge\": 23` means that the Gapc statistic of the correlation must be\n",
    "greater than or equal to (`_ge`) 23, so we will only be looking at the\n",
    "strongest signals.\n",
    "\n",
    "`\"cdAbove\": 14` removes correlations that are close in secondary structure.\n",
    "Contact distance (`cd`) refers to the number of steps through the secondary\n",
    "structure graph between the two nucleotides of the correlation.\n",
    "\n",
    "Using these filters in combination, a loop-loop interaction between\n",
    "nucleotides 85 and 155 becomes apparent.\n",
    "\n",
    "There are many other filters that can be applied to these data. See the data\n",
    "filtering tutorial for a guide on how to use these."
   ]
  },
  {
   "cell_type": "code",
   "execution_count": null,
   "metadata": {},
   "outputs": [],
   "source": [
    "plot = rnav.plot_arcs(\n",
    "    [example],\n",
    "    interactions={\n",
    "        'interactions': 'ringmap',\n",
    "        'positive_only': True,\n",
    "        'Statistic_ge': 23,\n",
    "        'min_cd': 15}\n",
    "    )"
   ]
  },
  {
   "cell_type": "markdown",
   "metadata": {},
   "source": [
    "### Circle plot\n",
    "\n",
    "This type of plot is usually less clear than an arc plot, but it can be useful\n",
    "in cases where we are mostly interested in one data type, and we need to fit an\n",
    "arbitrarily large RNA in a square area.\n",
    "\n",
    "This plot accepts the same filtering scheme used in the example above."
   ]
  },
  {
   "cell_type": "code",
   "execution_count": null,
   "metadata": {},
   "outputs": [],
   "source": [
    "plot = rnav.plot_circle(\n",
    "    [example],\n",
    "    sequence='ss_ct',\n",
    "    structure='ss_ct',\n",
    "    profile='shapemap',\n",
    "    colors='profile',\n",
    "    interactions={\n",
    "        'interactions': 'ringmap',\n",
    "        'positive_only': True,\n",
    "        'Statistic_ge': 23,\n",
    "        'min_cd': 15})"
   ]
  },
  {
   "cell_type": "markdown",
   "metadata": {},
   "source": [
    "### Secondary structure diagrams\n",
    "\n",
    "Another interesting way to display these data are on secondary structure\n",
    "drawings. This particular drawing was custom drawn to resemble the tertiary\n",
    "structure for this RNA. Here it it is very apparent that the loop-loop\n",
    "interaction (between the bottom two loops) that we have been seeing is\n",
    "informative of the true tertiary structure.\n",
    "\n",
    "This plot also accepts the same filtering scheme used in the examples above."
   ]
  },
  {
   "cell_type": "code",
   "execution_count": null,
   "metadata": {
    "slideshow": {
     "slide_type": "fragment"
    }
   },
   "outputs": [],
   "source": [
    "plot = rnav.plot_ss(\n",
    "    [example, example],\n",
    "    structure='ss_pdb',\n",
    "    interactions={\n",
    "        'interactions': 'ringmap',\n",
    "        'positive_only': True,\n",
    "        'Statistic_ge': 23,\n",
    "        'min_cd': 15},\n",
    "    positions=True,\n",
    "    profile='shapemap',\n",
    "    colors='profile',\n",
    "    apply_color_to='sequence')\n"
   ]
  },
  {
   "cell_type": "markdown",
   "metadata": {
    "slideshow": {
     "slide_type": "slide"
    }
   },
   "source": [
    "### 3D molecule interactive plots\n",
    "\n",
    "The above secondary structure drawing is very informative, but it was manually\n",
    "drawn using XRNA, which can be a time-consuming process. Sometimes it is best\n",
    "to simply plot these data directly on the 3D structure.\n",
    "\n",
    "This plot also accepts the same filtering scheme used in the examples above.\n",
    "\n",
    "Controls:\n",
    "\n",
    "* click and drag to rotate\n",
    "* mouse scroll or right click to zoom\n",
    "* 3rd mouse button and drag to pan"
   ]
  },
  {
   "cell_type": "code",
   "execution_count": null,
   "metadata": {
    "slideshow": {
     "slide_type": "fragment"
    },
    "tags": []
   },
   "outputs": [],
   "source": [
    "plot = rnav.plot_mol(\n",
    "    [example],\n",
    "    interactions={\n",
    "        'interactions': 'ringmap',\n",
    "        'positive_only': True,\n",
    "        'Statistic_ge': 23,\n",
    "        'min_cd': 15},\n",
    "    nt_color='grey')\n"
   ]
  },
  {
   "cell_type": "markdown",
   "metadata": {},
   "source": [
    "### Heatmap plot\n",
    "\n",
    "In heatmap plots, X and Y are nucleotide positions, and information about the\n",
    "relationships between nucleotide x and nucleotide y are shown.\n",
    "\n",
    "The encircled regions below are showing areas that are close in space in my `pdb`.\n",
    "\n",
    "The green \"heatmap\" here is actually a 2D KDE plot. It is showing the density\n",
    "of rings. Here it is clear that the highest density regions are close in space."
   ]
  },
  {
   "cell_type": "code",
   "execution_count": null,
   "metadata": {},
   "outputs": [],
   "source": [
    "plot = rnav.plot_heatmap(\n",
    "    [example],\n",
    "    structure='pdb',\n",
    "    interactions={\n",
    "        'interactions': 'ringmap',\n",
    "        'positive_only': True,\n",
    "        'cmap': 'Greens'},\n",
    "    plot_type='kde')"
   ]
  },
  {
   "cell_type": "markdown",
   "metadata": {},
   "source": [
    "### Distance histograms\n",
    "\n",
    "This plot can tell you if your interactions data is doing a good job of\n",
    "reporting on feasible structural interactions. You want to see the blue bars\n",
    "left-shifted compared to the grey line.\n",
    "\n",
    "- Grey line: Pairwise 3D distances between all nucleotides in PDB\n",
    "- Blue bars: 3D Distances RING-MaP data"
   ]
  },
  {
   "cell_type": "code",
   "execution_count": null,
   "metadata": {},
   "outputs": [],
   "source": [
    "plot = rnav.plot_disthist(\n",
    "    [example],\n",
    "    structure='pdb',\n",
    "    interactions={\n",
    "        'interactions': 'ringmap',\n",
    "        'positive_only': True,\n",
    "        'Statistic_ge': 23})"
   ]
  }
 ],
 "metadata": {
  "celltoolbar": "Slideshow",
  "kernelspec": {
   "display_name": "Python 3.9.2 ('RNAvigate')",
   "language": "python",
   "name": "python3"
  },
  "language_info": {
   "codemirror_mode": {
    "name": "ipython",
    "version": 3
   },
   "file_extension": ".py",
   "mimetype": "text/x-python",
   "name": "python",
   "nbconvert_exporter": "python",
   "pygments_lexer": "ipython3",
   "version": "3.9.2"
  },
  "vscode": {
   "interpreter": {
    "hash": "19f27ef284f8178f6a35b81171d95ddc9680e0c4e2787a48dff0b2c1ba5cea0a"
   }
  }
 },
 "nbformat": 4,
 "nbformat_minor": 4
}
