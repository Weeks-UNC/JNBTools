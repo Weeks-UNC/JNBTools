{
    "cells": [
        {
            "cell_type": "markdown",
            "metadata": {},
            "source": [
                "One sample plotting tutorial\n",
                "============================\n",
                "\n",
                "Welcome to the RNAvigate tutorials. Here I will demonstrate and explain some\n",
                "of the functionality of RNAvigate. In this Jupyter Notebook example, we'll\n",
                "explore:\n",
                "\n",
                "* [How to set up the environment](#how-to-set-up-the-environment)\n",
                "* [How to load experimental data](#how-to-load-experimental-data)\n",
                "* [How to use basic plotting functions](#how-to-use-basic-plotting-functions)\n",
                "\n",
                "Every multi-sample plotting function takes the same form:\n",
                "\n",
                "```python\n",
                "rnav.plot_qc(samples, other_keywords=\"some_value\")\n",
                "rnav.plot_skyline(samples, other_keywords=\"some_value\")\n",
                "rnav.plot_ap(samples, other_keywords=\"some_value\")\n",
                "rnav.plot_circle(samples, other_keywords=\"some_value\")\n",
                "rnav.plot_ss(samples, other_keywords=\"some_value\")\n",
                "rnav.plot_mol(samples, other_keywords=\"some_value\")\n",
                "rnav.plot_disthist(samples, other_keywords=\"some_value\")\n",
                "rnav.plot_heatmap(samples, other_keywords=\"some_value\")\n",
                "rnav.plot_linreg(samples, other_keywords=\"some_value\")\n",
                "```\n",
                "\n",
                "We'll dive into how to use these and what some of the other_keywords are."
            ]
        },
        {
            "cell_type": "markdown",
            "metadata": {},
            "source": [
                "Notebook set-up\n",
                "---------------\n",
                "First, lets set up our Jupyter Notebook, and import RNAvigate.\n",
                "\n",
                "Let's also create a button to hide/show the raw code, this can be useful to\n",
                "include if you are going to share an analysis with an audience that is not\n",
                "interested in the code."
            ]
        },
        {
            "cell_type": "code",
            "execution_count": null,
            "metadata": {},
            "outputs": [],
            "source": [
                "import rnavigate as rnav\n",
                "from data.rnasep.samples import example1, example2, example3, example4\n"
            ]
        },
        {
            "cell_type": "markdown",
            "metadata": {},
            "source": [
                "Initializing RNAvigate samples\n",
                "------------------------------\n",
                "\n",
                "In this example, all of my files for a particular sample have the same prefix,\n",
                "and are included in the same directory. This allows me to make a simple\n",
                "function to create each sample. This function takes a sample prefix, prepends\n",
                "the path, and appends the file suffix for each data type.\n",
                "\n",
                "These particular samples are using different probing reagents to determine which\n",
                "is working best for correlation analyses. The differences between them will be\n",
                "subtle, but important."
            ]
        },
        {
            "cell_type": "code",
            "execution_count": null,
            "metadata": {},
            "outputs": [],
            "source": [
                "samples = [example1, example2, example3, example4]\n"
            ]
        },
        {
            "cell_type": "markdown",
            "metadata": {},
            "source": [
                "ShapeMapper QC\n",
                "--------------\n",
                "\n",
                "The first step in any thorough analysis is quality control, so lets check the\n",
                "quality of our samples against each other. In contrast to the single sample QC\n",
                "plot, this one splits up untreated and modified samples.\n",
                "\n",
                "In this plot we can see that each experiment's modified sample is shifted to the\n",
                "right compared to the untreated samples, but to different degrees.\n",
                "\n",
                "All of our samples have a good read-length distribution, and all of them have\n",
                "a good shift in the distribution of per-nucleotide mutation rates."
            ]
        },
        {
            "cell_type": "code",
            "execution_count": null,
            "metadata": {},
            "outputs": [],
            "source": [
                "plot = rnav.plot_qc(samples, 'shapemap', 'log')\n"
            ]
        },
        {
            "cell_type": "markdown",
            "metadata": {},
            "source": [
                "Skyline Plots\n",
                "-------------\n",
                "\n",
                "We can see that the signal magnitude is slightly different in each of our\n",
                "samples, but to see how they differ qualitatively, we should plot them in detail\n",
                "on the same axis. Skyline plots are the best way to show this."
            ]
        },
        {
            "cell_type": "code",
            "execution_count": null,
            "metadata": {},
            "outputs": [],
            "source": [
                "plot = rnav.plot_skyline(\n",
                "    samples=samples,\n",
                "    profile='shapemap')\n"
            ]
        },
        {
            "cell_type": "markdown",
            "metadata": {},
            "source": [
                "By default, skyline plots the \"Reactivity_profile\" data, but clearly these have\n",
                "different magnitudes. We want to view the normalized profiles, which we can\n",
                "specify with the keyword `columns=\"Norm_profile\"`. For the most part, these\n",
                "samples are very similar, but they do have some interesting differences. Some\n",
                "regions in examples 2-4 have reactivity in regions where example 1 does not."
            ]
        },
        {
            "cell_type": "code",
            "execution_count": null,
            "metadata": {},
            "outputs": [],
            "source": [
                "plot = rnav.plot_skyline(\n",
                "    samples=samples,\n",
                "    profile='shapemap',\n",
                "    columns=\"Reactivity_profile\")\n"
            ]
        },
        {
            "cell_type": "markdown",
            "metadata": {},
            "source": [
                "Linear regressions\n",
                "------------------\n",
                "\n",
                "Another good way to compare reagents is by simple linear regression.\n",
                "\n",
                "If a structure is provided, we can color the points on the scatter plot by\n",
                "their base-pairing status. We can also get KDE curves (density curves similar to\n",
                "histograms) for paired and unpaired nucleotides, to see how well our reagents\n",
                "report on base-pairing. These reagents are doing pretty well. As we can see by\n",
                "the pairwise R-squared values, the profiles are indeed quite different.\n",
                "Typical replicate experiment R-squared values are typically greater than 0.9."
            ]
        },
        {
            "cell_type": "code",
            "execution_count": null,
            "metadata": {},
            "outputs": [],
            "source": [
                "plot = rnav.plot_linreg(\n",
                "    samples=samples,\n",
                "    profile='shapemap',\n",
                "    scale='log',\n",
                "    column='Reactivity_profile')\n"
            ]
        },
        {
            "cell_type": "markdown",
            "metadata": {},
            "source": [
                "Arc Plots\n",
                "---------\n",
                "\n",
                "Where these reagents really differ is in the degree in which their correlations\n",
                "detect base-pairing and tertiary structure. A good way to show this is plotting\n",
                "PAIR-MaP and RING-MaP data together. First we'll filter the RINGs to be positive,\n",
                "highly correlated, and distant in secondary structure.\n",
                "\n",
                "Examples 1 and 4 are a bit messy. Example 2 picks up on an important loop-loop\n",
                "interaction, but misses many of the long-range base-pairs. Example 3 reveals\n",
                "the long-range pseudoknot well, but doesn't strongly report on tertiary\n",
                "structure.\n"
            ]
        },
        {
            "cell_type": "code",
            "execution_count": null,
            "metadata": {},
            "outputs": [],
            "source": [
                "plot = rnav.plot_arcs(\n",
                "    samples,\n",
                "    sequence='ss_ct',\n",
                "    profile='shapemap',\n",
                "    structure='ss_ct',\n",
                "    interactions={\n",
                "        'interactions': 'ringmap',\n",
                "        \"positive_only\": True,\n",
                "        \"Statistic_ge\": 23,\n",
                "        \"min_cd\": 15,\n",
                "    },\n",
                "    interactions2=\"pairmap\",\n",
                "    profile_scale_factor=5)\n"
            ]
        },
        {
            "cell_type": "markdown",
            "metadata": {},
            "source": [
                "Circle plots\n",
                "------------\n",
                "\n",
                "The same data can be displayed on circle plots, but these plots are best used\n",
                "to compare a single data type at a time, as they can become cluttered quickly."
            ]
        },
        {
            "cell_type": "code",
            "execution_count": null,
            "metadata": {},
            "outputs": [],
            "source": [
                "plot = rnav.plot_circle(\n",
                "    samples,\n",
                "    sequence='ss_ct',\n",
                "    interactions={\n",
                "        'interactions': \"ringmap\",\n",
                "        \"positive_only\": True,\n",
                "        \"Statistic_ge\": 23,\n",
                "        \"min_cd\": 15,\n",
                "    },\n",
                "    profile=\"shapemap\",\n",
                "    colors={'sequence': 'contrast',\n",
                "            'nucleotides': 'profile'})\n"
            ]
        },
        {
            "cell_type": "markdown",
            "metadata": {},
            "source": [
                "Secondary structure drawings\n",
                "----------------------------\n",
                "\n",
                "Also included in our samples is a custom secondary structure drawing. This\n",
                "particular drawing is laid out to reflect the tertiary elements of this RNA,\n",
                "namely, coaxially stacked helices with a complex core motif.\n",
                "\n",
                "We can view all of the above data on these drawings as well. Here we will only\n",
                "display the PAIRs that reflect base-pairing in this structure by applying the\n",
                "filter `paired_only=True`."
            ]
        },
        {
            "cell_type": "code",
            "execution_count": null,
            "metadata": {},
            "outputs": [],
            "source": [
                "plot = rnav.plot_ss(\n",
                "    samples,\n",
                "    structure='ss_pdb',\n",
                "    profile='shapemap',\n",
                "    interactions={\n",
                "        'interactions': 'ringmap',\n",
                "        'positive_only': True,\n",
                "        'Statistic_ge': 23,\n",
                "        'min_cd': 15,\n",
                "    },\n",
                "    colors={'sequence': 'profile'},\n",
                "    interactions2={\n",
                "        'interactions': 'pairmap',\n",
                "        'paired_only':True\n",
                "    })\n"
            ]
        },
        {
            "cell_type": "markdown",
            "metadata": {},
            "source": [
                "3D structures\n",
                "-------------\n",
                "\n",
                "Finally, we can view this data on the crystal structure of this RNA.\n",
                "\n",
                "Ideally, these correlations would report on nucleotides that are close in 3D\n",
                "distance. Clearly, that is not the case for these reagents. Sad."
            ]
        },
        {
            "cell_type": "code",
            "execution_count": null,
            "metadata": {},
            "outputs": [],
            "source": [
                "plot = rnav.plot_mol(\n",
                "    samples,\n",
                "    structure='pdb',\n",
                "    interactions={\n",
                "        'interactions': 'ringmap',\n",
                "        'positive_only': True,\n",
                "        'Statistic_ge': 23,\n",
                "        'min_cd': 15,\n",
                "    })\n"
            ]
        },
        {
            "cell_type": "markdown",
            "metadata": {},
            "source": [
                "Distance histograms\n",
                "-------------------\n",
                "\n",
                "To finally prove to myself that these are not performing well, lets compare the\n",
                "distances between nucleotides that are correlated to the pairwise distances of\n",
                "all nucleotides in this crystal structure."
            ]
        },
        {
            "cell_type": "code",
            "execution_count": null,
            "metadata": {},
            "outputs": [],
            "source": [
                "plot = rnav.plot_disthist(\n",
                "    samples,\n",
                "    structure='pdb',\n",
                "    interactions={\n",
                "        'interactions': 'ringmap',\n",
                "        'positive_only': True,\n",
                "        'Zij_ge': 2,\n",
                "        'min_cd': 15\n",
                "    },\n",
                "    rows=1)\n"
            ]
        },
        {
            "cell_type": "markdown",
            "metadata": {},
            "source": [
                "To see how a good experiment performs on this metric, lets compare a SHAPE-JuMP\n",
                "experiment."
            ]
        },
        {
            "cell_type": "code",
            "execution_count": null,
            "metadata": {},
            "outputs": [],
            "source": [
                "rnav.plot_disthist(\n",
                "    samples[0:1],\n",
                "    structure='pdb',\n",
                "    interactions={\n",
                "        'interactions': 'shapejump',\n",
                "        'Percentile_ge': 0.99})\n"
            ]
        }
    ],
    "metadata": {
        "interpreter": {
            "hash": "4b7249f39be8a928512e41dc62465227edd9964f00c75d70c342e9c6959e5a57"
        },
        "kernelspec": {
            "display_name": "Python 3.7.3 ('base')",
            "language": "python",
            "name": "python3"
        },
        "language_info": {
            "codemirror_mode": {
                "name": "ipython",
                "version": 3
            },
            "file_extension": ".py",
            "mimetype": "text/x-python",
            "name": "python",
            "nbconvert_exporter": "python",
            "pygments_lexer": "ipython3",
            "version": "3.9.2"
        }
    },
    "nbformat": 4,
    "nbformat_minor": 4
}
