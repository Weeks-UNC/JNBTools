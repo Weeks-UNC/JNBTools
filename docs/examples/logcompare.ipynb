{
 "cells": [
  {
   "cell_type": "markdown",
   "metadata": {},
   "source": [
    "3D model options test script\n",
    "============================\n",
    "This test script is to test implemented features with tertiary structures.\n",
    "\n",
    "You can also use it to view the different options and how they look.\n",
    "The function calls are likely to stay the same, but the default plots\n",
    "may look a little different in the future.\n",
    "\n",
    "Currently broken\n",
    "----------------\n",
    "* nothing that I'm aware of"
   ]
  },
  {
   "cell_type": "markdown",
   "metadata": {},
   "source": [
    "Notebook set-up\n",
    "---------------"
   ]
  },
  {
   "cell_type": "code",
   "execution_count": null,
   "metadata": {},
   "outputs": [],
   "source": [
    "import rnavigate as rnav\n",
    "from data.rnasep.samples import example1, example2, example3, example4\n",
    "\n",
    "examples1 = [example1, example3]\n",
    "examples2 = [example2, example4]\n",
    "\n",
    "rnav.analysis.LogCompare(examples1, examples2, \"examples1\", \"examples2\")\n"
   ]
  }
 ],
 "metadata": {
  "interpreter": {
   "hash": "4b7249f39be8a928512e41dc62465227edd9964f00c75d70c342e9c6959e5a57"
  },
  "kernelspec": {
   "display_name": "Python 3.7.3 ('base')",
   "language": "python",
   "name": "python3"
  },
  "language_info": {
   "codemirror_mode": {
    "name": "ipython",
    "version": 3
   },
   "file_extension": ".py",
   "mimetype": "text/x-python",
   "name": "python",
   "nbconvert_exporter": "python",
   "pygments_lexer": "ipython3",
   "version": "3.9.2"
  }
 },
 "nbformat": 4,
 "nbformat_minor": 4
}
