{
 "cells": [
  {
   "cell_type": "code",
   "execution_count": null,
   "metadata": {},
   "outputs": [],
   "source": [
    "%load_ext autoreload\n",
    "%autoreload 2"
   ]
  },
  {
   "cell_type": "code",
   "execution_count": null,
   "metadata": {},
   "outputs": [],
   "source": [
    "import rnavigate as MaP\n",
    "import matplotlib.pyplot as plt"
   ]
  },
  {
   "cell_type": "code",
   "execution_count": null,
   "metadata": {},
   "outputs": [],
   "source": [
    "path = 'data/'\n",
    "\n",
    "def return_sample(sample):\n",
    "    return MaP.Sample(sample       = sample,\n",
    "                      ct           = f\"{path}RNaseP.ct\",\n",
    "                      ss           = f\"{path}RC_CRYSTAL_STRUCTURE.xrna\",\n",
    "                      pdb          = f\"{path}3dhs_Correct.pdb\",\n",
    "                      pdb_kwargs   = {\"chain\":\"A\"},\n",
    "                      shapemap     = f\"{path}{sample}_rnasep_profile.txt\",\n",
    "                      ringmap      = f\"{path}{sample}-rnasep.corrs\",\n",
    "                      pairmap      = f\"{path}{sample}-rnasep-pairmap.txt\",\n",
    "                      shapejump    = f\"{path}example-rnasep-deletions.txt\",\n",
    "                      fasta        = f\"{path}RNaseP-noSC.fasta\",\n",
    "                      motif        = {\"seq_source\": \"ct\",\n",
    "                                      \"motif\": \"DRACH\",\n",
    "                                      \"color\": \"red\"},\n",
    "                      sites        = {\"seq_source\": \"ct\",\n",
    "                                      \"site_list\": [20, 50],\n",
    "                                      \"color\": \"red\"},\n",
    "                      groups       = {\"seq_source\": \"ct\",\n",
    "                                      \"groups\": [{\"sites\": [80, 85, 90],\n",
    "                                                 \"color\": \"blue\"}]},\n",
    "                      orfs         = {\"seq_source\": \"ct\",\n",
    "                                      \"color\": \"grey\"},\n",
    "                      spans        = {\"seq_source\": \"ct\",\n",
    "                                      \"span_list\": [[280,300]],\n",
    "                                      \"color\": \"yellow\"}\n",
    "    )\n",
    "\n",
    "# example2.set_data(name=\"motif\", seq_source=\"ct\", motif=\"DRACH\", color=\"red\")\n",
    "# example2.set_data(name=\"sites\", seq_source=\"ct\", site_list=[20, 50], color=\"red\")\n",
    "# example2.set_data(name=\"groups\", seq_source=\"ct\",\n",
    "#                   groups=[{\"sites\": [80, 85, 90], \"color\": \"blue\"}])\n",
    "# example2.set_data(name=\"orfs\", seq_source=\"ct\", color=\"grey\")\n",
    "# example2.set_data(name=\"spans\", seq_source=\"ct\", span_list=[[280,300]], color=\"yellow\")\n",
    "example1 = return_sample(\"example1\")\n",
    "example2 = return_sample(\"example2\")\n",
    "example3 = return_sample(\"example3\")\n",
    "example4 = return_sample(\"example4\")"
   ]
  },
  {
   "cell_type": "markdown",
   "metadata": {},
   "source": [
    "mol\n",
    "---\n",
    "\n",
    "[\"nt_color\", \"atom\", \"title\"]"
   ]
  },
  {
   "cell_type": "code",
   "execution_count": null,
   "metadata": {},
   "outputs": [],
   "source": [
    "plot = example2.plot_mol()\n",
    "plot = example2.plot_mol(\n",
    "    interactions=\"ringmap\",\n",
    "    interactions_filter={\n",
    "        \"positive_only\": True,\n",
    "        \"Statistic_ge\": 23},\n",
    "    nt_color=\"profile\",\n",
    "    title=False,\n",
    "    atom=\"O3'\")\n",
    "plot = example2.plot_mol_multifilter(\n",
    "    filters=[\n",
    "        {\"interactions\":\"ringmap\", \"Statistic\":20},\n",
    "        {\"interactions\": \"pairmap\", \"all_pairs\": True, \"paired_only\": True},\n",
    "        {\"interactions\": \"shapejump\", \"Percentile_ge\": 0.99}],\n",
    "        nt_color=\"lightgrey\")\n",
    "plot = MaP.plot_mol_multisample(\n",
    "    samples=[example1, example2, example3, example4],\n",
    "    interactions=\"ringmap\",\n",
    "    interactions_filter={\n",
    "        \"positive_only\": True,\n",
    "        \"cdAbove\": 10},\n",
    "    nt_color=\"profile\")"
   ]
  },
  {
   "cell_type": "markdown",
   "metadata": {},
   "source": [
    "arcs\n",
    "----\n",
    "\n",
    "[\"ax\", \"colorbar\", \"seqbar\", \"title\", \"interactions_panel\",\n",
    "\"interactions2_panel\", \"ct_panel\", \"annotation_mode\"]"
   ]
  },
  {
   "cell_type": "code",
   "execution_count": null,
   "metadata": {},
   "outputs": [],
   "source": [
    "plt.close('all')\n",
    "plot = example2.plot_arcs()\n",
    "plot = example2.plot_arcs(\n",
    "    region=[70, 200],\n",
    "    seqbar=False,\n",
    "    annotations=[\"motif\", \"sites\", \"groups\", \"orfs\", \"spans\"],\n",
    "    title=False,\n",
    "    annotation_mode=\"track\")\n",
    "plot = example2.plot_arcs(\n",
    "    interactions=\"ringmap\",\n",
    "    interactions_filter={\n",
    "        \"positive_only\": True,\n",
    "        \"Statistic_ge\": 23},\n",
    "    colorbar=False,\n",
    "    ct_panel=\"bottom\",\n",
    "    interactions_panel=\"top\")\n",
    "plot = example2.plot_arcs_multifilter(\n",
    "    filters=[\n",
    "        {\"interactions\":\"ringmap\", \"Statistic\":20},\n",
    "        {\"interactions\": \"pairmap\", \"all_pairs\": True, \"paired_only\": True},\n",
    "        {\"interactions\": \"shapejump\", \"Percentile_ge\": 0.99}])\n",
    "plot = MaP.plot_arcs_multisample(\n",
    "    ct=\"ss\",\n",
    "    samples=[example1, example3, example4],\n",
    "    annotations=[\"motif\"],\n",
    "    interactions=\"ringmap\",\n",
    "    interactions_filter={\n",
    "        \"Statistic_ge\":23,\n",
    "        \"cdAbove\": 14},\n",
    "    interactions2=\"pairmap\",\n",
    "    interactions2_filter={\n",
    "        \"all_pairs\": True,\n",
    "        \"paired_only\": True})"
   ]
  },
  {
   "cell_type": "code",
   "execution_count": null,
   "metadata": {},
   "outputs": [],
   "source": []
  }
 ],
 "metadata": {
  "kernelspec": {
   "display_name": "Python 3.9.2 ('RNAvigate')",
   "language": "python",
   "name": "python3"
  },
  "language_info": {
   "codemirror_mode": {
    "name": "ipython",
    "version": 3
   },
   "file_extension": ".py",
   "mimetype": "text/x-python",
   "name": "python",
   "nbconvert_exporter": "python",
   "pygments_lexer": "ipython3",
   "version": "3.9.2"
  },
  "vscode": {
   "interpreter": {
    "hash": "9bc5b7d6fb91a4aeee0c6c593c16f1676dc0f90feb6b649cbd0762bccce1fa5e"
   }
  }
 },
 "nbformat": 4,
 "nbformat_minor": 4
}
