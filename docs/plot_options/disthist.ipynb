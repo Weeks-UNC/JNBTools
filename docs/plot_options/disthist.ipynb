{
 "cells": [
  {
   "cell_type": "markdown",
   "metadata": {},
   "source": [
    "Distance distribution histograms\n",
    "================================\n",
    "\n",
    "Distance distribution histograms provide a method of determining how well\n",
    "inter-nucleotide data and filtering schemes isolate close-in-space contacts.\n",
    "A histogram of the atomic 3D distances of filtered internucleotide data is\n",
    "compared to a \"background\" 3D distance histogram. The background histogram by\n",
    "default is the distribution of all pairwise 3D distances in the given 3D\n",
    "structure. It can also be defined by first creating an inter-nucleotide data\n",
    "set consisting of all nucleotide pairs using the `allpossible` argument with\n",
    "`rnav.Sample()`, and filtering these.\n"
   ]
  },
  {
   "cell_type": "code",
   "execution_count": null,
   "metadata": {},
   "outputs": [],
   "source": [
    "import rnavigate as rnav\n",
    "from rnavigate.examples import rnasep_1, rnasep_2\n",
    "\n",
    "plot = rnav.plot_disthist(\n",
    "    samples=[rnasep_1, rnasep_2],\n",
    "    interactions=\"ringmap\",\n",
    "    structure=\"pdb\",\n",
    ")\n"
   ]
  },
  {
   "cell_type": "code",
   "execution_count": null,
   "metadata": {},
   "outputs": [],
   "source": [
    "help(rnav.plot_disthist)\n"
   ]
  }
 ],
 "metadata": {
  "kernelspec": {
   "display_name": "RNAvigate",
   "language": "python",
   "name": "python3"
  },
  "language_info": {
   "codemirror_mode": {
    "name": "ipython",
    "version": 3
   },
   "file_extension": ".py",
   "mimetype": "text/x-python",
   "name": "python",
   "nbconvert_exporter": "python",
   "pygments_lexer": "ipython3",
   "version": "3.9.2"
  }
 },
 "nbformat": 4,
 "nbformat_minor": 2
}
