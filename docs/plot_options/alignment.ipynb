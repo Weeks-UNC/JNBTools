{
 "cells": [
  {
   "cell_type": "markdown",
   "metadata": {},
   "source": [
    "alignment plots\n",
    "===============\n",
    "\n",
    "Alignment plots are a quick way to visualize how RNAvigate is positionally\n",
    "aligning two data sets. The two sequences will be displayed along the x-axis,\n",
    "with dashes inserted where there are insertions/deletions. A simplified\n",
    "visualization of the alignment appears between the sequences, with grey bars\n",
    "indicating the sequence agreement. The x-axes show the positional alignment\n",
    "used by RNAvigate to compare sequences.\n"
   ]
  },
  {
   "cell_type": "code",
   "execution_count": null,
   "metadata": {},
   "outputs": [],
   "source": [
    "import rnavigate as rnav\n",
    "from rnavigate.examples import rnasep_1, rmrp\n"
   ]
  },
  {
   "cell_type": "markdown",
   "metadata": {},
   "source": [
    "These two structure models differ only in that one contains structure cassettes\n",
    "on the 5' and 3' ends.\n",
    "\n",
    "This is what a good alignment looks like:"
   ]
  },
  {
   "cell_type": "code",
   "execution_count": null,
   "metadata": {},
   "outputs": [],
   "source": [
    "plot = rnav.plot_alignment(\n",
    "    data1=(rnasep_1, \"ss_ct\"),\n",
    "    data2=(rnasep_1, \"ss_pdb\"),\n",
    ")\n"
   ]
  },
  {
   "cell_type": "markdown",
   "metadata": {},
   "source": [
    "RNAse P and RNAse MRP have structural conservation, but their sequences diverge substantially.\n",
    "\n",
    "Positions will be aligned even though there is very little sequence similarity\n",
    "\n",
    "This is what a bad alignment looks like:"
   ]
  },
  {
   "cell_type": "code",
   "execution_count": null,
   "metadata": {},
   "outputs": [],
   "source": [
    "plot = rnav.plot_alignment(\n",
    "    data1=(rmrp, \"ss\"),\n",
    "    data2=(rnasep_1, \"ss_pdb\"),\n",
    ")\n"
   ]
  },
  {
   "cell_type": "markdown",
   "metadata": {},
   "source": [
    "## Call signature\n",
    "\n",
    "```python\n",
    "plot1 = rnavigate.plot_arcs(\n",
    "    data1,\n",
    "    data2,\n",
    "    labels=None,\n",
    "    )\n",
    "```\n",
    "\n",
    "## Required arguments\n",
    "\n",
    "`data1` and `data2`\n",
    "\n",
    "* These arguments are required, and each is a list or tuple of an\n",
    "  `rnavigate.Sample` object and a data keyword.\n",
    "* The first sample is plotted on top, and the second is plotted below.\n",
    "\n",
    "## Optional arguments:\n",
    "\n",
    "`labels`\n",
    "\n",
    "* A list of strings, one for each sample.\n",
    "* Defaults to using each sample name by retrieving `sample.sample`.\n"
   ]
  }
 ],
 "metadata": {
  "kernelspec": {
   "display_name": "RNAvigate",
   "language": "python",
   "name": "python3"
  },
  "language_info": {
   "codemirror_mode": {
    "name": "ipython",
    "version": 3
   },
   "file_extension": ".py",
   "mimetype": "text/x-python",
   "name": "python",
   "nbconvert_exporter": "python",
   "pygments_lexer": "ipython3",
   "version": "3.9.2"
  }
 },
 "nbformat": 4,
 "nbformat_minor": 2
}
