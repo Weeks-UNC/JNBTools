{
 "cells": [
  {
   "cell_type": "markdown",
   "metadata": {},
   "source": [
    "Heatmap and contour plots\n",
    "=========================\n",
    "\n",
    "Heatmaps and contour plots are a good way to view inter-nucleotide data when\n",
    "the data are very dense, or when you wish to view inter-nucleotide data\n",
    "density. The x and y axes are nucleotide positions. XY-positions are colored by\n",
    "inter-nucleotide data values or density (heatmap) and overlayed with a contour\n",
    "map. This contour map can show either 3D distance or secondary structure graph\n",
    "path distance (contact distance). These countours will outline areas where\n",
    "nucleotide *X* is close, in 3D space or secondary structure, to nucleotide *Y*."
   ]
  },
  {
   "cell_type": "code",
   "execution_count": null,
   "metadata": {},
   "outputs": [],
   "source": [
    "import rnavigate as rnav\n",
    "from rnavigate.examples import rnasep_1\n",
    "\n",
    "plot = rnav.plot_heatmap(\n",
    "    samples=[rnasep_1],\n",
    "    sequence=\"pdb\",\n",
    "    structure=\"pdb\",\n",
    "    interactions=\"shapejump\",\n",
    "    plot_type=\"kde\",\n",
    ")\n"
   ]
  },
  {
   "cell_type": "code",
   "execution_count": null,
   "metadata": {},
   "outputs": [],
   "source": [
    "help(rnav.plot_heatmap)\n"
   ]
  }
 ],
 "metadata": {
  "kernelspec": {
   "display_name": "RNAvigate",
   "language": "python",
   "name": "python3"
  },
  "language_info": {
   "codemirror_mode": {
    "name": "ipython",
    "version": 3
   },
   "file_extension": ".py",
   "mimetype": "text/x-python",
   "name": "python",
   "nbconvert_exporter": "python",
   "pygments_lexer": "ipython3",
   "version": "3.9.2"
  }
 },
 "nbformat": 4,
 "nbformat_minor": 2
}
