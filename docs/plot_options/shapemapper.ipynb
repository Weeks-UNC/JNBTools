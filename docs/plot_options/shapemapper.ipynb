{
 "cells": [
  {
   "cell_type": "markdown",
   "metadata": {},
   "source": [
    "ShapeMapper2 profiles\n",
    "=====================\n",
    "\n",
    "ShapeMapper2 produces a useful, recognizable plot with 3 panels: Normalized\n",
    "SHAPE reactivities, Mutation rates with measurement errors for modified,\n",
    "untreated, and optional denatured samples, and read depths and effective read\n",
    "depths for all samples."
   ]
  },
  {
   "cell_type": "code",
   "execution_count": null,
   "metadata": {},
   "outputs": [],
   "source": [
    "import rnavigate as rnav\n",
    "from rnavigate.examples import rnasep_1\n",
    "\n",
    "plot = rnav.plot_shapemapper(\n",
    "    sample=rnasep_1,\n",
    "    profile=\"shapemap\",\n",
    ")\n"
   ]
  },
  {
   "cell_type": "code",
   "execution_count": null,
   "metadata": {},
   "outputs": [],
   "source": [
    "help(rnav.plot_shapemapper)\n"
   ]
  }
 ],
 "metadata": {
  "kernelspec": {
   "display_name": "RNAvigate",
   "language": "python",
   "name": "python3"
  },
  "language_info": {
   "codemirror_mode": {
    "name": "ipython",
    "version": 3
   },
   "file_extension": ".py",
   "mimetype": "text/x-python",
   "name": "python",
   "nbconvert_exporter": "python",
   "pygments_lexer": "ipython3",
   "version": "3.9.2"
  }
 },
 "nbformat": 4,
 "nbformat_minor": 2
}
