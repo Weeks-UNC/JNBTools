{
 "cells": [
  {
   "cell_type": "markdown",
   "metadata": {},
   "source": [
    "Profile plots\n",
    "=============\n",
    "\n",
    "Profile plots are a useful way to compare multiple sets of per-nucleotide data,\n",
    "similar to [skyline plots](skyline-plots.md). Unlike skyline plots, values are\n",
    "displayed using a color-coded bar graph, like ShapeMapper plots, with sequences\n",
    "and sequence annotations along the x-axis. Unlike ShapeMapper plots, this are\n",
    "more flexible, and color-coding can be defined in the data class."
   ]
  },
  {
   "cell_type": "code",
   "execution_count": null,
   "metadata": {},
   "outputs": [],
   "source": [
    "import rnavigate as rnav\n",
    "from rnavigate.examples import rnasep_1, rnasep_2\n",
    "\n",
    "plot = rnav.plot_profile(\n",
    "    samples=[rnasep_1, rnasep_2],\n",
    "    profile=\"shapemap\",\n",
    ")\n"
   ]
  },
  {
   "cell_type": "code",
   "execution_count": null,
   "metadata": {},
   "outputs": [],
   "source": [
    "help(rnav.plot_profile)\n"
   ]
  }
 ],
 "metadata": {
  "kernelspec": {
   "display_name": "RNAvigate",
   "language": "python",
   "name": "python3"
  },
  "language_info": {
   "codemirror_mode": {
    "name": "ipython",
    "version": 3
   },
   "file_extension": ".py",
   "mimetype": "text/x-python",
   "name": "python",
   "nbconvert_exporter": "python",
   "pygments_lexer": "ipython3",
   "version": "3.9.2"
  }
 },
 "nbformat": 4,
 "nbformat_minor": 2
}
