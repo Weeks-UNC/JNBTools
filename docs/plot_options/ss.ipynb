{
 "cells": [
  {
   "cell_type": "markdown",
   "metadata": {},
   "source": [
    "Secondary structure drawings\n",
    "============================\n",
    "\n",
    "Secondary structure drawings are a standard and intuitive way to visualize\n",
    "secondary structures. It is also a useful way to visualize sequence\n",
    "annotations and per-nucleotide and inter-nucleotide data in the context of a\n",
    "secondary structure. RNAvigate will not make the layout for you, but it will\n",
    "accept file formats from StructureEditor, R2DT, VARNA, XRNA, and FORNA."
   ]
  },
  {
   "cell_type": "code",
   "execution_count": null,
   "metadata": {},
   "outputs": [],
   "source": [
    "import rnavigate as rnav\n",
    "from rnavigate.examples import rnasep_1, rnasep_2, rnasep_3\n",
    "\n",
    "plot = rnav.plot_ss(\n",
    "    samples=[rnasep_1, rnasep_2, rnasep_3],\n",
    "    structure=\"ss_pdb\",\n",
    "    profile=\"shapemap\",\n",
    "    interactions=\"ringmap\",\n",
    "    colors={\"sequence\": \"profile\"}\n",
    ")\n"
   ]
  },
  {
   "cell_type": "code",
   "execution_count": null,
   "metadata": {},
   "outputs": [],
   "source": [
    "help(rnav.plot_ss)\n"
   ]
  }
 ],
 "metadata": {
  "kernelspec": {
   "display_name": "RNAvigate",
   "language": "python",
   "name": "python3"
  },
  "language_info": {
   "codemirror_mode": {
    "name": "ipython",
    "version": 3
   },
   "file_extension": ".py",
   "mimetype": "text/x-python",
   "name": "python",
   "nbconvert_exporter": "python",
   "pygments_lexer": "ipython3",
   "version": "3.9.2"
  }
 },
 "nbformat": 4,
 "nbformat_minor": 2
}
