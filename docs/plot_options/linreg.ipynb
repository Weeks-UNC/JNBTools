{
 "cells": [
  {
   "cell_type": "markdown",
   "metadata": {},
   "source": [
    "Linear regression plots\n",
    "=======================\n",
    "\n",
    "Linear regression plots are useful to determine reproducibility between\n",
    "replicates, or to quickly quantify the difference between structural states.\n",
    "RNAvigate creates scatter plots of per-nucleotide values from one sample on the\n",
    "x-axis for another sample on the y-axis. Slope and R^2 values are displayed.\n",
    "Nucleotides can be colored by sequence or base-pairing status. A KDE of\n",
    "paired/unpaired reactivity distributions may also be plotted for each sample.\n"
   ]
  },
  {
   "cell_type": "code",
   "execution_count": null,
   "metadata": {},
   "outputs": [],
   "source": [
    "import rnavigate as rnav\n",
    "from rnavigate.examples import rnasep_1, rnasep_2, rnasep_3, rnasep_4\n",
    "\n",
    "plot = rnav.plot_linreg(\n",
    "    samples=[rnasep_1, rnasep_2, rnasep_3, rnasep_4],\n",
    "    profile=\"shapemap\",\n",
    "    scale=\"log\",\n",
    ")\n"
   ]
  },
  {
   "cell_type": "code",
   "execution_count": null,
   "metadata": {},
   "outputs": [],
   "source": [
    "help(rnav.plot_linreg)\n"
   ]
  }
 ],
 "metadata": {
  "kernelspec": {
   "display_name": "RNAvigate",
   "language": "python",
   "name": "python3"
  },
  "language_info": {
   "codemirror_mode": {
    "name": "ipython",
    "version": 3
   },
   "file_extension": ".py",
   "mimetype": "text/x-python",
   "name": "python",
   "nbconvert_exporter": "python",
   "pygments_lexer": "ipython3",
   "version": "3.9.2"
  }
 },
 "nbformat": 4,
 "nbformat_minor": 2
}
