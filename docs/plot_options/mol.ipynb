{
 "cells": [
  {
   "cell_type": "markdown",
   "metadata": {},
   "source": [
    "Interactive 3D molecular renderings\n",
    "===================================\n",
    "\n",
    "Interactive 3D molecular renderings are useful to visualize per-nucleotide and\n",
    "inter-nucleotide data on 3D models of RNA. Per-nucleotide data may be used to\n",
    "color nucleotides, and inter-nucleotide data may be drawn as cylinders that\n",
    "connect nucleotides through space.\n",
    "\n",
    "These plots are interactive. Here are the controls:\n",
    "* scroll up/down to zoom in/out\n",
    "* click and drag to rotate\n",
    "* 3rd mouse button and drag to pan"
   ]
  },
  {
   "cell_type": "code",
   "execution_count": null,
   "metadata": {},
   "outputs": [],
   "source": [
    "import rnavigate as rnav\n",
    "from rnavigate.examples import rnasep_1, rnasep_2\n",
    "\n",
    "plot = rnav.plot_mol(\n",
    "    samples=[rnasep_1, rnasep_2],\n",
    "    structure=\"pdb\",\n",
    "    profile=\"shapemap\",\n",
    "    colors=\"profile\",\n",
    ")\n"
   ]
  },
  {
   "cell_type": "code",
   "execution_count": null,
   "metadata": {},
   "outputs": [],
   "source": [
    "help(rnav.plot_mol)\n"
   ]
  }
 ],
 "metadata": {
  "kernelspec": {
   "display_name": "RNAvigate",
   "language": "python",
   "name": "python3"
  },
  "language_info": {
   "codemirror_mode": {
    "name": "ipython",
    "version": 3
   },
   "file_extension": ".py",
   "mimetype": "text/x-python",
   "name": "python",
   "nbconvert_exporter": "python",
   "pygments_lexer": "ipython3",
   "version": "3.9.2"
  }
 },
 "nbformat": 4,
 "nbformat_minor": 2
}
