{
 "cells": [
  {
   "cell_type": "markdown",
   "metadata": {},
   "source": [
    "Notebook set-up\n",
    "---------------"
   ]
  },
  {
   "cell_type": "code",
   "execution_count": 1,
   "metadata": {},
   "outputs": [
    {
     "data": {
      "text/html": [
       "<script>\n",
       "                 code_show=true;\n",
       "                 function code_toggle() {\n",
       "                 if (code_show) {$('div.input').hide();}\n",
       "                 else {$('div.input').show();}\n",
       "                 code_show = !code_show\n",
       "                 }\n",
       "                 $( document ).ready(code_toggle);\n",
       "                 </script>\n",
       "                 <form action=\"javascript:code_toggle()\">\n",
       "                 <input type=\"submit\" value=\"Hide/show raw code.\">\n",
       "                 </form>"
      ],
      "text/plain": [
       "<IPython.core.display.HTML object>"
      ]
     },
     "metadata": {},
     "output_type": "display_data"
    }
   ],
   "source": [
    "# This sets plots to display in-line by default\n",
    "%matplotlib inline\n",
    "import sys\n",
    "# Import module, for high-level functions, no additional modules are needed\n",
    "import plotmapper as MaP\n",
    "\n",
    "\n",
    "# Creates an HTML button that hides/shows code cells\n",
    "# Useful for lab notebook reports and research updates\n",
    "# NOTE: this does not display well on GitHub.\n",
    "MaP.create_code_button()"
   ]
  },
  {
   "cell_type": "markdown",
   "metadata": {},
   "source": [
    "Initializing MaP sample\n",
    "-----------------------"
   ]
  },
  {
   "cell_type": "code",
   "execution_count": 2,
   "metadata": {},
   "outputs": [],
   "source": [
    "path = 'data/'\n",
    "def kwargs(sample):\n",
    "    kwargs = {\"sample\": sample,\n",
    "              \"profile\": path+sample+\"_rnasep_profile.txt\",\n",
    "              \"ct\": path+\"RNaseP.ct\",\n",
    "              \"ss\": path+\"RC_CRYSTAL_STRUCTURE.xrna\",\n",
    "              \"rings\": path+sample+\"-rnasep.corrs\",\n",
    "              \"pairs\": path+sample+\"-rnasep-pairmap.txt\",\n",
    "              \"log\": path+sample+\"_shapemapper_log.txt\",\n",
    "              \"dance_prefix\": path+sample+\"_rnasep\",\n",
    "              \"deletions\": path+\"example-rnasep-deletions.txt\",\n",
    "              \"fasta\": path+\"RNaseP-noSC.fasta\",\n",
    "              \"pdb\": path+\"3dhs_Correct.pdb\",\n",
    "              \"pdb_kwargs\":{\"chain\": \"A\"}}\n",
    "    return kwargs\n",
    "\n",
    "example1 = MaP.Sample(**kwargs(\"example1\"))\n",
    "example2 = MaP.Sample(**kwargs(\"example2\"))\n",
    "example3 = MaP.Sample(**kwargs(\"example3\"))\n",
    "example4 = MaP.Sample(**kwargs(\"example4\"))\n",
    "samples = [example1, example2, example3, example4]"
   ]
  },
  {
   "cell_type": "code",
   "execution_count": 36,
   "metadata": {},
   "outputs": [
    {
     "name": "stderr",
     "output_type": "stream",
     "text": [
      "No handles with labels found to put in legend.\n"
     ]
    },
    {
     "data": {
      "text/plain": [
       "<matplotlib.legend.Legend at 0x1f01836fda0>"
      ]
     },
     "execution_count": 36,
     "metadata": {},
     "output_type": "execute_result"
    },
    {
     "data": {
      "image/png": "[encoded data removed]",
      "text/plain": [
       "<Figure size 432x288 with 2 Axes>"
      ]
     },
     "metadata": {},
     "output_type": "display_data"
    }
   ],
   "source": [
    "import matplotlib.pyplot as plt\n",
    "\n",
    "# make list of all distances based on pdb\n",
    "matrix = example1.data[\"pdb\"].get_distance_matrix()\n",
    "distances = []\n",
    "for i, row in enumerate(matrix):\n",
    "    distances.extend(row[i+6:])\n",
    "# remove the no data filler value (1000)\n",
    "distances = [x for x in distances if x != 1000]\n",
    "\n",
    "#make list of rings distances\n",
    "example1.data[\"pairs\"].set_3d_distances(example1.data[\"pdb\"])\n",
    "ring_dists = example1.data[\"rings\"].data[\"Distance\"]\n",
    "# remove no data\n",
    "ring_dists = [x for x in ring_dists if x != 1000]\n",
    "\n",
    "fig, ax = plt.subplots(1)\n",
    "ax2 = ax.twinx()\n",
    "ax.hist(ring_dists, bins=range(0,200,5), color='orange')\n",
    "ax2.hist(distances, bins=range(0,200,5), histtype='step')"
   ]
  },
  {
   "cell_type": "code",
   "execution_count": null,
   "metadata": {},
   "outputs": [],
   "source": []
  }
 ],
 "metadata": {
  "interpreter": {
   "hash": "6c33f2e669c4252adcb6b35df72ed100d5670b3dff543db2a50ccff0137b1beb"
  },
  "kernelspec": {
   "display_name": "Python 3.7.9 64-bit ('base': conda)",
   "name": "python3"
  },
  "language_info": {
   "codemirror_mode": {
    "name": "ipython",
    "version": 3
   },
   "file_extension": ".py",
   "mimetype": "text/x-python",
   "name": "python",
   "nbconvert_exporter": "python",
   "pygments_lexer": "ipython3",
   "version": "3.7.3"
  }
 },
 "nbformat": 4,
 "nbformat_minor": 4
}
